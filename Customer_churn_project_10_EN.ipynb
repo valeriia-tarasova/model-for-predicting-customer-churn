{
 "cells": [
  {
   "cell_type": "markdown",
   "metadata": {},
   "source": [
    "# Customer churn forecast for a chain of fitness centers\n",
    "\n",
    "The fitness center chain wants to change its customer policy to reduce churn.\n",
    "\n",
    "Purpose of the study:\n",
    "1. learn to predict the probability of outflow (at the level of the next month) for each client;\n",
    "2. form typical client portraits: identify several of the most striking groups and characterize their main properties;\n",
    "3. analyze the main features that most strongly affect the outflow;\n",
    "4. formulate the main conclusions and develop recommendations for improving the quality of work with clients.\n",
    "\n",
    "Available data: customer data for a month before the churn and the fact of the churn.\n",
    "\n",
    "Work plan:\n",
    "1. Familiarization and pre-processing of data.\n",
    "2. Exploratory data analysis.\n",
    "3. Preparing a churn forecasting model.\n",
    "4. Client clustering.\n",
    "5. Conclusions and recommendations based on the results of the study."
   ]
  },
  {
   "cell_type": "markdown",
   "metadata": {},
   "source": [
    "## Acquaintance and pre-processing of data"
   ]
  },
  {
   "cell_type": "code",
   "execution_count": 1,
   "metadata": {},
   "outputs": [],
   "source": [
    "import warnings\n",
    "warnings.filterwarnings('ignore')\n",
    "\n",
    "import numpy as np\n",
    "import pandas as pd\n",
    "\n",
    "from matplotlib import pyplot as plt\n",
    "import seaborn as sns\n",
    "from IPython.display import display\n",
    "\n",
    "from sklearn.preprocessing import StandardScaler\n",
    "from sklearn.model_selection import train_test_split\n",
    "\n",
    "from sklearn.linear_model import LogisticRegression\n",
    "from sklearn.metrics import confusion_matrix, accuracy_score, precision_score, recall_score, silhouette_score\n",
    "from sklearn.ensemble import RandomForestClassifier\n",
    "from scipy.cluster.hierarchy import dendrogram, linkage\n",
    "from sklearn.cluster import KMeans\n",
    "\n",
    "from plotly import graph_objects as go"
   ]
  },
  {
   "cell_type": "code",
   "execution_count": 2,
   "metadata": {},
   "outputs": [],
   "source": [
    "!pip -q install --upgrade sklearn"
   ]
  },
  {
   "cell_type": "code",
   "execution_count": 3,
   "metadata": {},
   "outputs": [
    {
     "name": "stdout",
     "output_type": "stream",
     "text": [
      "Requirement already satisfied: seaborn in /opt/conda/lib/python3.9/site-packages (0.11.1)\n",
      "Collecting seaborn\n",
      "  Downloading seaborn-0.11.2-py3-none-any.whl (292 kB)\n",
      "\u001b[K     |████████████████████████████████| 292 kB 1.7 MB/s eta 0:00:01\n",
      "\u001b[?25hRequirement already satisfied: pandas>=0.23 in /opt/conda/lib/python3.9/site-packages (from seaborn) (1.2.4)\n",
      "Requirement already satisfied: numpy>=1.15 in /opt/conda/lib/python3.9/site-packages (from seaborn) (1.21.1)\n",
      "Requirement already satisfied: matplotlib>=2.2 in /opt/conda/lib/python3.9/site-packages (from seaborn) (3.3.4)\n",
      "Requirement already satisfied: scipy>=1.0 in /opt/conda/lib/python3.9/site-packages (from seaborn) (1.8.0)\n",
      "Requirement already satisfied: kiwisolver>=1.0.1 in /opt/conda/lib/python3.9/site-packages (from matplotlib>=2.2->seaborn) (1.4.2)\n",
      "Requirement already satisfied: cycler>=0.10 in /opt/conda/lib/python3.9/site-packages (from matplotlib>=2.2->seaborn) (0.11.0)\n",
      "Requirement already satisfied: pyparsing!=2.0.4,!=2.1.2,!=2.1.6,>=2.0.3 in /opt/conda/lib/python3.9/site-packages (from matplotlib>=2.2->seaborn) (2.4.7)\n",
      "Requirement already satisfied: pillow>=6.2.0 in /opt/conda/lib/python3.9/site-packages (from matplotlib>=2.2->seaborn) (8.4.0)\n",
      "Requirement already satisfied: python-dateutil>=2.1 in /opt/conda/lib/python3.9/site-packages (from matplotlib>=2.2->seaborn) (2.8.1)\n",
      "Requirement already satisfied: pytz>=2017.3 in /opt/conda/lib/python3.9/site-packages (from pandas>=0.23->seaborn) (2021.1)\n",
      "Requirement already satisfied: six>=1.5 in /opt/conda/lib/python3.9/site-packages (from python-dateutil>=2.1->matplotlib>=2.2->seaborn) (1.16.0)\n",
      "Installing collected packages: seaborn\n",
      "Successfully installed seaborn-0.11.2\n"
     ]
    }
   ],
   "source": [
    "!pip install --upgrade seaborn --user"
   ]
  },
  {
   "cell_type": "code",
   "execution_count": 4,
   "metadata": {},
   "outputs": [],
   "source": [
    "data = pd.read_csv('/datasets/gym_churn.csv')"
   ]
  },
  {
   "cell_type": "code",
   "execution_count": 5,
   "metadata": {},
   "outputs": [
    {
     "data": {
      "text/html": [
       "<div>\n",
       "<style scoped>\n",
       "    .dataframe tbody tr th:only-of-type {\n",
       "        vertical-align: middle;\n",
       "    }\n",
       "\n",
       "    .dataframe tbody tr th {\n",
       "        vertical-align: top;\n",
       "    }\n",
       "\n",
       "    .dataframe thead th {\n",
       "        text-align: right;\n",
       "    }\n",
       "</style>\n",
       "<table border=\"1\" class=\"dataframe\">\n",
       "  <thead>\n",
       "    <tr style=\"text-align: right;\">\n",
       "      <th></th>\n",
       "      <th>gender</th>\n",
       "      <th>Near_Location</th>\n",
       "      <th>Partner</th>\n",
       "      <th>Promo_friends</th>\n",
       "      <th>Phone</th>\n",
       "      <th>Contract_period</th>\n",
       "      <th>Group_visits</th>\n",
       "      <th>Age</th>\n",
       "      <th>Avg_additional_charges_total</th>\n",
       "      <th>Month_to_end_contract</th>\n",
       "      <th>Lifetime</th>\n",
       "      <th>Avg_class_frequency_total</th>\n",
       "      <th>Avg_class_frequency_current_month</th>\n",
       "      <th>Churn</th>\n",
       "    </tr>\n",
       "  </thead>\n",
       "  <tbody>\n",
       "    <tr>\n",
       "      <th>1264</th>\n",
       "      <td>1</td>\n",
       "      <td>1</td>\n",
       "      <td>0</td>\n",
       "      <td>0</td>\n",
       "      <td>1</td>\n",
       "      <td>1</td>\n",
       "      <td>1</td>\n",
       "      <td>29</td>\n",
       "      <td>71.523522</td>\n",
       "      <td>1.0</td>\n",
       "      <td>1</td>\n",
       "      <td>2.729743</td>\n",
       "      <td>2.753885</td>\n",
       "      <td>0</td>\n",
       "    </tr>\n",
       "    <tr>\n",
       "      <th>905</th>\n",
       "      <td>1</td>\n",
       "      <td>1</td>\n",
       "      <td>1</td>\n",
       "      <td>1</td>\n",
       "      <td>1</td>\n",
       "      <td>6</td>\n",
       "      <td>1</td>\n",
       "      <td>32</td>\n",
       "      <td>90.242379</td>\n",
       "      <td>6.0</td>\n",
       "      <td>21</td>\n",
       "      <td>1.336809</td>\n",
       "      <td>1.384730</td>\n",
       "      <td>0</td>\n",
       "    </tr>\n",
       "    <tr>\n",
       "      <th>2437</th>\n",
       "      <td>1</td>\n",
       "      <td>1</td>\n",
       "      <td>1</td>\n",
       "      <td>0</td>\n",
       "      <td>1</td>\n",
       "      <td>1</td>\n",
       "      <td>0</td>\n",
       "      <td>32</td>\n",
       "      <td>8.039850</td>\n",
       "      <td>1.0</td>\n",
       "      <td>0</td>\n",
       "      <td>1.183160</td>\n",
       "      <td>0.088125</td>\n",
       "      <td>1</td>\n",
       "    </tr>\n",
       "    <tr>\n",
       "      <th>1502</th>\n",
       "      <td>1</td>\n",
       "      <td>1</td>\n",
       "      <td>1</td>\n",
       "      <td>0</td>\n",
       "      <td>1</td>\n",
       "      <td>1</td>\n",
       "      <td>1</td>\n",
       "      <td>30</td>\n",
       "      <td>50.813166</td>\n",
       "      <td>1.0</td>\n",
       "      <td>6</td>\n",
       "      <td>3.867089</td>\n",
       "      <td>3.871257</td>\n",
       "      <td>0</td>\n",
       "    </tr>\n",
       "    <tr>\n",
       "      <th>771</th>\n",
       "      <td>1</td>\n",
       "      <td>1</td>\n",
       "      <td>1</td>\n",
       "      <td>0</td>\n",
       "      <td>1</td>\n",
       "      <td>12</td>\n",
       "      <td>1</td>\n",
       "      <td>31</td>\n",
       "      <td>63.486831</td>\n",
       "      <td>12.0</td>\n",
       "      <td>2</td>\n",
       "      <td>2.756225</td>\n",
       "      <td>2.807976</td>\n",
       "      <td>0</td>\n",
       "    </tr>\n",
       "    <tr>\n",
       "      <th>1337</th>\n",
       "      <td>1</td>\n",
       "      <td>1</td>\n",
       "      <td>0</td>\n",
       "      <td>1</td>\n",
       "      <td>1</td>\n",
       "      <td>12</td>\n",
       "      <td>1</td>\n",
       "      <td>24</td>\n",
       "      <td>202.390508</td>\n",
       "      <td>12.0</td>\n",
       "      <td>1</td>\n",
       "      <td>0.999179</td>\n",
       "      <td>1.047047</td>\n",
       "      <td>0</td>\n",
       "    </tr>\n",
       "    <tr>\n",
       "      <th>574</th>\n",
       "      <td>0</td>\n",
       "      <td>1</td>\n",
       "      <td>0</td>\n",
       "      <td>0</td>\n",
       "      <td>1</td>\n",
       "      <td>1</td>\n",
       "      <td>1</td>\n",
       "      <td>36</td>\n",
       "      <td>347.177762</td>\n",
       "      <td>1.0</td>\n",
       "      <td>7</td>\n",
       "      <td>1.846222</td>\n",
       "      <td>1.914159</td>\n",
       "      <td>0</td>\n",
       "    </tr>\n",
       "    <tr>\n",
       "      <th>1766</th>\n",
       "      <td>1</td>\n",
       "      <td>1</td>\n",
       "      <td>0</td>\n",
       "      <td>0</td>\n",
       "      <td>1</td>\n",
       "      <td>1</td>\n",
       "      <td>1</td>\n",
       "      <td>33</td>\n",
       "      <td>311.724788</td>\n",
       "      <td>1.0</td>\n",
       "      <td>6</td>\n",
       "      <td>1.183611</td>\n",
       "      <td>1.013930</td>\n",
       "      <td>0</td>\n",
       "    </tr>\n",
       "    <tr>\n",
       "      <th>3339</th>\n",
       "      <td>0</td>\n",
       "      <td>1</td>\n",
       "      <td>0</td>\n",
       "      <td>0</td>\n",
       "      <td>1</td>\n",
       "      <td>1</td>\n",
       "      <td>1</td>\n",
       "      <td>29</td>\n",
       "      <td>141.867035</td>\n",
       "      <td>1.0</td>\n",
       "      <td>3</td>\n",
       "      <td>1.075681</td>\n",
       "      <td>1.978230</td>\n",
       "      <td>1</td>\n",
       "    </tr>\n",
       "    <tr>\n",
       "      <th>1442</th>\n",
       "      <td>0</td>\n",
       "      <td>1</td>\n",
       "      <td>1</td>\n",
       "      <td>0</td>\n",
       "      <td>1</td>\n",
       "      <td>12</td>\n",
       "      <td>0</td>\n",
       "      <td>32</td>\n",
       "      <td>184.530753</td>\n",
       "      <td>11.0</td>\n",
       "      <td>3</td>\n",
       "      <td>2.336441</td>\n",
       "      <td>2.162144</td>\n",
       "      <td>0</td>\n",
       "    </tr>\n",
       "  </tbody>\n",
       "</table>\n",
       "</div>"
      ],
      "text/plain": [
       "      gender  Near_Location  Partner  Promo_friends  Phone  Contract_period  \\\n",
       "1264       1              1        0              0      1                1   \n",
       "905        1              1        1              1      1                6   \n",
       "2437       1              1        1              0      1                1   \n",
       "1502       1              1        1              0      1                1   \n",
       "771        1              1        1              0      1               12   \n",
       "1337       1              1        0              1      1               12   \n",
       "574        0              1        0              0      1                1   \n",
       "1766       1              1        0              0      1                1   \n",
       "3339       0              1        0              0      1                1   \n",
       "1442       0              1        1              0      1               12   \n",
       "\n",
       "      Group_visits  Age  Avg_additional_charges_total  Month_to_end_contract  \\\n",
       "1264             1   29                     71.523522                    1.0   \n",
       "905              1   32                     90.242379                    6.0   \n",
       "2437             0   32                      8.039850                    1.0   \n",
       "1502             1   30                     50.813166                    1.0   \n",
       "771              1   31                     63.486831                   12.0   \n",
       "1337             1   24                    202.390508                   12.0   \n",
       "574              1   36                    347.177762                    1.0   \n",
       "1766             1   33                    311.724788                    1.0   \n",
       "3339             1   29                    141.867035                    1.0   \n",
       "1442             0   32                    184.530753                   11.0   \n",
       "\n",
       "      Lifetime  Avg_class_frequency_total  Avg_class_frequency_current_month  \\\n",
       "1264         1                   2.729743                           2.753885   \n",
       "905         21                   1.336809                           1.384730   \n",
       "2437         0                   1.183160                           0.088125   \n",
       "1502         6                   3.867089                           3.871257   \n",
       "771          2                   2.756225                           2.807976   \n",
       "1337         1                   0.999179                           1.047047   \n",
       "574          7                   1.846222                           1.914159   \n",
       "1766         6                   1.183611                           1.013930   \n",
       "3339         3                   1.075681                           1.978230   \n",
       "1442         3                   2.336441                           2.162144   \n",
       "\n",
       "      Churn  \n",
       "1264      0  \n",
       "905       0  \n",
       "2437      1  \n",
       "1502      0  \n",
       "771       0  \n",
       "1337      0  \n",
       "574       0  \n",
       "1766      0  \n",
       "3339      1  \n",
       "1442      0  "
      ]
     },
     "execution_count": 5,
     "metadata": {},
     "output_type": "execute_result"
    }
   ],
   "source": [
    "data.sample(10)"
   ]
  },
  {
   "cell_type": "code",
   "execution_count": 6,
   "metadata": {},
   "outputs": [
    {
     "name": "stdout",
     "output_type": "stream",
     "text": [
      "<class 'pandas.core.frame.DataFrame'>\n",
      "RangeIndex: 4000 entries, 0 to 3999\n",
      "Data columns (total 14 columns):\n",
      " #   Column                             Non-Null Count  Dtype  \n",
      "---  ------                             --------------  -----  \n",
      " 0   gender                             4000 non-null   int64  \n",
      " 1   Near_Location                      4000 non-null   int64  \n",
      " 2   Partner                            4000 non-null   int64  \n",
      " 3   Promo_friends                      4000 non-null   int64  \n",
      " 4   Phone                              4000 non-null   int64  \n",
      " 5   Contract_period                    4000 non-null   int64  \n",
      " 6   Group_visits                       4000 non-null   int64  \n",
      " 7   Age                                4000 non-null   int64  \n",
      " 8   Avg_additional_charges_total       4000 non-null   float64\n",
      " 9   Month_to_end_contract              4000 non-null   float64\n",
      " 10  Lifetime                           4000 non-null   int64  \n",
      " 11  Avg_class_frequency_total          4000 non-null   float64\n",
      " 12  Avg_class_frequency_current_month  4000 non-null   float64\n",
      " 13  Churn                              4000 non-null   int64  \n",
      "dtypes: float64(4), int64(10)\n",
      "memory usage: 437.6 KB\n"
     ]
    }
   ],
   "source": [
    "data.info()"
   ]
  },
  {
   "cell_type": "code",
   "execution_count": 7,
   "metadata": {},
   "outputs": [
    {
     "data": {
      "text/plain": [
       "Index(['gender', 'near_location', 'partner', 'promo_friends', 'phone',\n",
       "       'contract_period', 'group_visits', 'age',\n",
       "       'avg_additional_charges_total', 'month_to_end_contract', 'lifetime',\n",
       "       'avg_class_frequency_total', 'avg_class_frequency_current_month',\n",
       "       'churn'],\n",
       "      dtype='object')"
      ]
     },
     "execution_count": 7,
     "metadata": {},
     "output_type": "execute_result"
    }
   ],
   "source": [
    "data.columns = data.columns.str.lower()\n",
    "data.columns"
   ]
  },
  {
   "cell_type": "code",
   "execution_count": 8,
   "metadata": {},
   "outputs": [
    {
     "data": {
      "text/plain": [
       "gender                               0\n",
       "near_location                        0\n",
       "partner                              0\n",
       "promo_friends                        0\n",
       "phone                                0\n",
       "contract_period                      0\n",
       "group_visits                         0\n",
       "age                                  0\n",
       "avg_additional_charges_total         0\n",
       "month_to_end_contract                0\n",
       "lifetime                             0\n",
       "avg_class_frequency_total            0\n",
       "avg_class_frequency_current_month    0\n",
       "churn                                0\n",
       "dtype: int64"
      ]
     },
     "execution_count": 8,
     "metadata": {},
     "output_type": "execute_result"
    }
   ],
   "source": [
    "data.isna().sum()"
   ]
  },
  {
   "cell_type": "code",
   "execution_count": 9,
   "metadata": {},
   "outputs": [
    {
     "data": {
      "text/plain": [
       "0"
      ]
     },
     "execution_count": 9,
     "metadata": {},
     "output_type": "execute_result"
    }
   ],
   "source": [
    "data.duplicated().sum()"
   ]
  },
  {
   "cell_type": "code",
   "execution_count": 10,
   "metadata": {},
   "outputs": [],
   "source": [
    "data[['gender','near_location', 'partner', 'promo_friends', 'phone', 'group_visits', 'churn']] = \\\n",
    "data[['gender','near_location', 'partner', 'promo_friends', 'phone', 'group_visits', 'churn']].astype('bool')"
   ]
  },
  {
   "cell_type": "code",
   "execution_count": 11,
   "metadata": {},
   "outputs": [
    {
     "name": "stdout",
     "output_type": "stream",
     "text": [
      "<class 'pandas.core.frame.DataFrame'>\n",
      "RangeIndex: 4000 entries, 0 to 3999\n",
      "Data columns (total 14 columns):\n",
      " #   Column                             Non-Null Count  Dtype  \n",
      "---  ------                             --------------  -----  \n",
      " 0   gender                             4000 non-null   bool   \n",
      " 1   near_location                      4000 non-null   bool   \n",
      " 2   partner                            4000 non-null   bool   \n",
      " 3   promo_friends                      4000 non-null   bool   \n",
      " 4   phone                              4000 non-null   bool   \n",
      " 5   contract_period                    4000 non-null   int64  \n",
      " 6   group_visits                       4000 non-null   bool   \n",
      " 7   age                                4000 non-null   int64  \n",
      " 8   avg_additional_charges_total       4000 non-null   float64\n",
      " 9   month_to_end_contract              4000 non-null   int64  \n",
      " 10  lifetime                           4000 non-null   int64  \n",
      " 11  avg_class_frequency_total          4000 non-null   float64\n",
      " 12  avg_class_frequency_current_month  4000 non-null   float64\n",
      " 13  churn                              4000 non-null   bool   \n",
      "dtypes: bool(7), float64(3), int64(4)\n",
      "memory usage: 246.2 KB\n"
     ]
    }
   ],
   "source": [
    "data['month_to_end_contract'] = data['month_to_end_contract'].astype('int')\n",
    "data.info()"
   ]
  },
  {
   "cell_type": "markdown",
   "metadata": {},
   "source": [
    "We have data on the characteristics of fitness center customers, as well as data on their purchases and actions. There are no duplicates or omissions. The column names have been converted to inline form. Data type has been changed for some columns"
   ]
  },
  {
   "cell_type": "markdown",
   "metadata": {},
   "source": [
    "## Exploratory data analysis"
   ]
  },
  {
   "cell_type": "code",
   "execution_count": 12,
   "metadata": {},
   "outputs": [
    {
     "data": {
      "text/html": [
       "<div>\n",
       "<style scoped>\n",
       "    .dataframe tbody tr th:only-of-type {\n",
       "        vertical-align: middle;\n",
       "    }\n",
       "\n",
       "    .dataframe tbody tr th {\n",
       "        vertical-align: top;\n",
       "    }\n",
       "\n",
       "    .dataframe thead th {\n",
       "        text-align: right;\n",
       "    }\n",
       "</style>\n",
       "<table border=\"1\" class=\"dataframe\">\n",
       "  <thead>\n",
       "    <tr style=\"text-align: right;\">\n",
       "      <th></th>\n",
       "      <th>contract_period</th>\n",
       "      <th>age</th>\n",
       "      <th>avg_additional_charges_total</th>\n",
       "      <th>month_to_end_contract</th>\n",
       "      <th>lifetime</th>\n",
       "      <th>avg_class_frequency_total</th>\n",
       "      <th>avg_class_frequency_current_month</th>\n",
       "    </tr>\n",
       "  </thead>\n",
       "  <tbody>\n",
       "    <tr>\n",
       "      <th>count</th>\n",
       "      <td>4000.000000</td>\n",
       "      <td>4000.000000</td>\n",
       "      <td>4000.000000</td>\n",
       "      <td>4000.000000</td>\n",
       "      <td>4000.000000</td>\n",
       "      <td>4000.000000</td>\n",
       "      <td>4000.000000</td>\n",
       "    </tr>\n",
       "    <tr>\n",
       "      <th>mean</th>\n",
       "      <td>4.681250</td>\n",
       "      <td>29.184250</td>\n",
       "      <td>146.943728</td>\n",
       "      <td>4.322750</td>\n",
       "      <td>3.724750</td>\n",
       "      <td>1.879020</td>\n",
       "      <td>1.767052</td>\n",
       "    </tr>\n",
       "    <tr>\n",
       "      <th>std</th>\n",
       "      <td>4.549706</td>\n",
       "      <td>3.258367</td>\n",
       "      <td>96.355602</td>\n",
       "      <td>4.191297</td>\n",
       "      <td>3.749267</td>\n",
       "      <td>0.972245</td>\n",
       "      <td>1.052906</td>\n",
       "    </tr>\n",
       "    <tr>\n",
       "      <th>min</th>\n",
       "      <td>1.000000</td>\n",
       "      <td>18.000000</td>\n",
       "      <td>0.148205</td>\n",
       "      <td>1.000000</td>\n",
       "      <td>0.000000</td>\n",
       "      <td>0.000000</td>\n",
       "      <td>0.000000</td>\n",
       "    </tr>\n",
       "    <tr>\n",
       "      <th>25%</th>\n",
       "      <td>1.000000</td>\n",
       "      <td>27.000000</td>\n",
       "      <td>68.868830</td>\n",
       "      <td>1.000000</td>\n",
       "      <td>1.000000</td>\n",
       "      <td>1.180875</td>\n",
       "      <td>0.963003</td>\n",
       "    </tr>\n",
       "    <tr>\n",
       "      <th>50%</th>\n",
       "      <td>1.000000</td>\n",
       "      <td>29.000000</td>\n",
       "      <td>136.220159</td>\n",
       "      <td>1.000000</td>\n",
       "      <td>3.000000</td>\n",
       "      <td>1.832768</td>\n",
       "      <td>1.719574</td>\n",
       "    </tr>\n",
       "    <tr>\n",
       "      <th>75%</th>\n",
       "      <td>6.000000</td>\n",
       "      <td>31.000000</td>\n",
       "      <td>210.949625</td>\n",
       "      <td>6.000000</td>\n",
       "      <td>5.000000</td>\n",
       "      <td>2.536078</td>\n",
       "      <td>2.510336</td>\n",
       "    </tr>\n",
       "    <tr>\n",
       "      <th>max</th>\n",
       "      <td>12.000000</td>\n",
       "      <td>41.000000</td>\n",
       "      <td>552.590740</td>\n",
       "      <td>12.000000</td>\n",
       "      <td>31.000000</td>\n",
       "      <td>6.023668</td>\n",
       "      <td>6.146783</td>\n",
       "    </tr>\n",
       "  </tbody>\n",
       "</table>\n",
       "</div>"
      ],
      "text/plain": [
       "       contract_period          age  avg_additional_charges_total  \\\n",
       "count      4000.000000  4000.000000                   4000.000000   \n",
       "mean          4.681250    29.184250                    146.943728   \n",
       "std           4.549706     3.258367                     96.355602   \n",
       "min           1.000000    18.000000                      0.148205   \n",
       "25%           1.000000    27.000000                     68.868830   \n",
       "50%           1.000000    29.000000                    136.220159   \n",
       "75%           6.000000    31.000000                    210.949625   \n",
       "max          12.000000    41.000000                    552.590740   \n",
       "\n",
       "       month_to_end_contract     lifetime  avg_class_frequency_total  \\\n",
       "count            4000.000000  4000.000000                4000.000000   \n",
       "mean                4.322750     3.724750                   1.879020   \n",
       "std                 4.191297     3.749267                   0.972245   \n",
       "min                 1.000000     0.000000                   0.000000   \n",
       "25%                 1.000000     1.000000                   1.180875   \n",
       "50%                 1.000000     3.000000                   1.832768   \n",
       "75%                 6.000000     5.000000                   2.536078   \n",
       "max                12.000000    31.000000                   6.023668   \n",
       "\n",
       "       avg_class_frequency_current_month  \n",
       "count                        4000.000000  \n",
       "mean                            1.767052  \n",
       "std                             1.052906  \n",
       "min                             0.000000  \n",
       "25%                             0.963003  \n",
       "50%                             1.719574  \n",
       "75%                             2.510336  \n",
       "max                             6.146783  "
      ]
     },
     "execution_count": 12,
     "metadata": {},
     "output_type": "execute_result"
    }
   ],
   "source": [
    "data.describe()"
   ]
  },
  {
   "cell_type": "markdown",
   "metadata": {},
   "source": [
    "The data is distributed close to evenly, the standard deviations are not too far from the mean (except for avg_additional_charges_total - total revenue from other goods sold). "
   ]
  },
  {
   "cell_type": "code",
   "execution_count": 13,
   "metadata": {},
   "outputs": [
    {
     "data": {
      "text/html": [
       "<div>\n",
       "<style scoped>\n",
       "    .dataframe tbody tr th:only-of-type {\n",
       "        vertical-align: middle;\n",
       "    }\n",
       "\n",
       "    .dataframe tbody tr th {\n",
       "        vertical-align: top;\n",
       "    }\n",
       "\n",
       "    .dataframe thead th {\n",
       "        text-align: right;\n",
       "    }\n",
       "</style>\n",
       "<table border=\"1\" class=\"dataframe\">\n",
       "  <thead>\n",
       "    <tr style=\"text-align: right;\">\n",
       "      <th></th>\n",
       "      <th>gender</th>\n",
       "      <th>near_location</th>\n",
       "      <th>partner</th>\n",
       "      <th>promo_friends</th>\n",
       "      <th>phone</th>\n",
       "      <th>contract_period</th>\n",
       "      <th>group_visits</th>\n",
       "      <th>age</th>\n",
       "      <th>avg_additional_charges_total</th>\n",
       "      <th>month_to_end_contract</th>\n",
       "      <th>lifetime</th>\n",
       "      <th>avg_class_frequency_total</th>\n",
       "      <th>avg_class_frequency_current_month</th>\n",
       "    </tr>\n",
       "    <tr>\n",
       "      <th>churn</th>\n",
       "      <th></th>\n",
       "      <th></th>\n",
       "      <th></th>\n",
       "      <th></th>\n",
       "      <th></th>\n",
       "      <th></th>\n",
       "      <th></th>\n",
       "      <th></th>\n",
       "      <th></th>\n",
       "      <th></th>\n",
       "      <th></th>\n",
       "      <th></th>\n",
       "      <th></th>\n",
       "    </tr>\n",
       "  </thead>\n",
       "  <tbody>\n",
       "    <tr>\n",
       "      <th>False</th>\n",
       "      <td>0.510037</td>\n",
       "      <td>0.873086</td>\n",
       "      <td>0.534195</td>\n",
       "      <td>0.353522</td>\n",
       "      <td>0.903709</td>\n",
       "      <td>5.747193</td>\n",
       "      <td>0.464103</td>\n",
       "      <td>29.976523</td>\n",
       "      <td>158.445715</td>\n",
       "      <td>5.283089</td>\n",
       "      <td>4.711807</td>\n",
       "      <td>2.024876</td>\n",
       "      <td>2.027882</td>\n",
       "    </tr>\n",
       "    <tr>\n",
       "      <th>True</th>\n",
       "      <td>0.510839</td>\n",
       "      <td>0.768143</td>\n",
       "      <td>0.355325</td>\n",
       "      <td>0.183789</td>\n",
       "      <td>0.902922</td>\n",
       "      <td>1.728558</td>\n",
       "      <td>0.268615</td>\n",
       "      <td>26.989632</td>\n",
       "      <td>115.082899</td>\n",
       "      <td>1.662582</td>\n",
       "      <td>0.990575</td>\n",
       "      <td>1.474995</td>\n",
       "      <td>1.044546</td>\n",
       "    </tr>\n",
       "  </tbody>\n",
       "</table>\n",
       "</div>"
      ],
      "text/plain": [
       "         gender  near_location   partner  promo_friends     phone  \\\n",
       "churn                                                               \n",
       "False  0.510037       0.873086  0.534195       0.353522  0.903709   \n",
       "True   0.510839       0.768143  0.355325       0.183789  0.902922   \n",
       "\n",
       "       contract_period  group_visits        age  avg_additional_charges_total  \\\n",
       "churn                                                                           \n",
       "False         5.747193      0.464103  29.976523                    158.445715   \n",
       "True          1.728558      0.268615  26.989632                    115.082899   \n",
       "\n",
       "       month_to_end_contract  lifetime  avg_class_frequency_total  \\\n",
       "churn                                                               \n",
       "False               5.283089  4.711807                   2.024876   \n",
       "True                1.662582  0.990575                   1.474995   \n",
       "\n",
       "       avg_class_frequency_current_month  \n",
       "churn                                     \n",
       "False                           2.027882  \n",
       "True                            1.044546  "
      ]
     },
     "execution_count": 13,
     "metadata": {},
     "output_type": "execute_result"
    }
   ],
   "source": [
    "data.groupby('churn').mean()"
   ]
  },
  {
   "cell_type": "markdown",
   "metadata": {},
   "source": [
    "Consider the average values ​​in 2 groups - those who left and those who stayed:\n",
    "1. \"gender\" (gender) - the average is the same, this indicates that, which means that the trait does not affect the outflow / inflow.\n",
    "2. \"near_location\" (living or working nearby) - a fairly high figure in both groups, which means that most of the clients are probably those who live and work nearby. And customer churn is greater among those who are farther from the fitness center. We can say that this feature has little effect on the outflow.\n",
    "3. \"partner\" (an employee of the partner's company) - Among partners, the outflow is less, however, the attribute does not affect so much.\n",
    "4. \"promo_friends\" (first entry as refer a friend) - The impact on customers is positive, but weak.\n",
    "5. \"phone\" - those who left the phone in the questionnaire will not be suitable for future analysis.\n",
    "6. \"contract_period\" (subscription duration) - a significant positive impact of the feature on customers.\n",
    "7. \"group_visits\" (visiting group classes) - also has a positive effect, but less strong.\n",
    "8. \"age\" (age) - has a weak positive impact on customers.\n",
    "9. \"avg_additional_charges_total\" (revenue from other services and goods) - has a weak positive impact.\n",
    "10. \"month_to_end_contract\" (subscription expiration date in months) - the sign has a strong positive impact on customers.\n",
    "11. \"lifetime\" (time since the first visit) - has a strong positive impact.\n",
    "12. \"avg_class_frequency_total\" (average visit frequency per week for the entire subscription) - the attribute has a positive effect on customers.\n",
    "13. \"avg_class_frequency_current_month\" (average frequency of visits per week for the previous month) - a positive impact on customers."
   ]
  },
  {
   "cell_type": "code",
   "execution_count": 14,
   "metadata": {},
   "outputs": [],
   "source": [
    "bool_features = [] \n",
    "count_features = []\n",
    "\n",
    "for col in (data.columns.tolist()):\n",
    "    if data[col].dtype == 'bool':\n",
    "        bool_features.append(col)\n",
    "    else:\n",
    "        count_features.append(col)"
   ]
  },
  {
   "cell_type": "code",
   "execution_count": 15,
   "metadata": {},
   "outputs": [],
   "source": [
    "# fig, axes = plt.subplots(nrows=2, ncols=3, figsize=(10,11))\n",
    "# axes_list = [item for sublist in axes for item in sublist]\n",
    "# fig.tight_layout(pad=5.0)\n",
    "# fig.suptitle('Распределение булевых признаков', fontsize=16)\n",
    "# for feature in bool_features:\n",
    "#     ax = axes_list.pop(0)\n",
    "#     sns.distplot(data.query('churn == 1')[feature], bins=4, ax=ax, kde=False, color='blue',label='ушли (1)')\n",
    "#     sns.distplot(data.query('churn == 0')[feature], bins=4, ax=ax, kde=False, color='green',label='остались (0)')\n",
    "#     ax.set_xticks([0,1])\n",
    "#     ax.set_xlabel(feature, fontsize=12)\n",
    "#     ax.set_ylabel('Кол-во клиентов', fontsize=12)\n",
    "#     ax.legend()"
   ]
  },
  {
   "cell_type": "code",
   "execution_count": 16,
   "metadata": {},
   "outputs": [
    {
     "data": {
      "image/png": "[encoded data removed]",
      "text/plain": [
       "<Figure size 648x936 with 8 Axes>"
      ]
     },
     "metadata": {
      "needs_background": "light"
     },
     "output_type": "display_data"
    }
   ],
   "source": [
    "fig, axes = plt.subplots(nrows=4, ncols=2, figsize=(9,13))\n",
    "axes_list = [item for sublist in axes for item in sublist]\n",
    "fig.tight_layout(pad=5.0)\n",
    "fig.suptitle('Распределение оттока по признакам', fontsize=16)\n",
    "for feature in bool_features:\n",
    "    ax = axes_list.pop(0)\n",
    "    sns.distplot(data.query('churn == 1')[feature], bins=10, ax=ax, kde=False, color='blue',label='ушли (1)')\n",
    "    sns.distplot(data.query('churn == 0')[feature], bins=10, ax=ax, kde=False, color='green',label='остались (0)')\n",
    "    ax.set_xlabel(feature, fontsize=12)\n",
    "    ax.set_ylabel('Кол-во клиентов', fontsize=12)\n",
    "    ax.legend()"
   ]
  },
  {
   "cell_type": "code",
   "execution_count": 17,
   "metadata": {},
   "outputs": [
    {
     "data": {
      "image/png": "[encoded data removed]",
      "text/plain": [
       "<Figure size 432x288 with 1 Axes>"
      ]
     },
     "metadata": {
      "needs_background": "light"
     },
     "output_type": "display_data"
    },
    {
     "data": {
      "image/png": "[encoded data removed]",
      "text/plain": [
       "<Figure size 432x288 with 1 Axes>"
      ]
     },
     "metadata": {
      "needs_background": "light"
     },
     "output_type": "display_data"
    },
    {
     "data": {
      "image/png": "[encoded data removed]",
      "text/plain": [
       "<Figure size 432x288 with 1 Axes>"
      ]
     },
     "metadata": {
      "needs_background": "light"
     },
     "output_type": "display_data"
    },
    {
     "data": {
      "image/png": "[encoded data removed]",
      "text/plain": [
       "<Figure size 432x288 with 1 Axes>"
      ]
     },
     "metadata": {
      "needs_background": "light"
     },
     "output_type": "display_data"
    },
    {
     "data": {
      "image/png": "[encoded data removed]",
      "text/plain": [
       "<Figure size 432x288 with 1 Axes>"
      ]
     },
     "metadata": {
      "needs_background": "light"
     },
     "output_type": "display_data"
    },
    {
     "data": {
      "image/png": "[encoded data removed]",
      "text/plain": [
       "<Figure size 432x288 with 1 Axes>"
      ]
     },
     "metadata": {
      "needs_background": "light"
     },
     "output_type": "display_data"
    },
    {
     "data": {
      "image/png": "[encoded data removed]",
      "text/plain": [
       "<Figure size 432x288 with 1 Axes>"
      ]
     },
     "metadata": {
      "needs_background": "light"
     },
     "output_type": "display_data"
    }
   ],
   "source": [
    "for i in bool_features:\n",
    "    plt.figure(i)\n",
    "    ax = sns.countplot(x= i, hue= \"churn\", data=data)"
   ]
  },
  {
   "cell_type": "markdown",
   "metadata": {},
   "source": [
    "According to the graphs for boolean features, you can see that the ratio of male / female (gender) is approximately the same distribution, and the shares of the outflow are also equal. Among those who live closer to the fitness center (near_location), the proportion of those who remain is much larger. Those who participated in the affiliate program (partner) are slightly more than those who did not participate. And those who are a partner often stay and continue to walk. There are significantly fewer participants in the promo-action (promo-friends), but the proportion of those remaining among them is much larger. Most of the clients left their phone number in the questionnaire. Among those who went to group classes (group_visits), a larger number of clients remained."
   ]
  },
  {
   "cell_type": "code",
   "execution_count": 18,
   "metadata": {
    "scrolled": true
   },
   "outputs": [
    {
     "data": {
      "image/png": "[encoded data removed]",
      "text/plain": [
       "<Figure size 648x936 with 8 Axes>"
      ]
     },
     "metadata": {
      "needs_background": "light"
     },
     "output_type": "display_data"
    }
   ],
   "source": [
    "fig, axes = plt.subplots(nrows=4, ncols=2, figsize=(9,13))\n",
    "axes_list = [item for sublist in axes for item in sublist]\n",
    "fig.tight_layout(pad=5.0)\n",
    "fig.suptitle('Распределение оттока по признакам', fontsize=16)\n",
    "for feature in count_features:\n",
    "    ax = axes_list.pop(0)\n",
    "    sns.distplot(data.query('churn == 1')[feature], bins=10, ax=ax, kde=False, color='blue',label='ушли (1)')\n",
    "    sns.distplot(data.query('churn == 0')[feature], bins=10, ax=ax, kde=False, color='green',label='остались (0)')\n",
    "    ax.set_xlabel(feature, fontsize=12)\n",
    "    ax.set_ylabel('Кол-во клиентов', fontsize=12)\n",
    "    ax.legend()"
   ]
  },
  {
   "cell_type": "markdown",
   "metadata": {},
   "source": [
    "Quantitatively, we see the following:\n",
    "1. Contract duration (contract_period) - the main churn for customers with a contract for a month, among those with a long-term contract, the churn is much less.\n",
    "2. Age (age) - the age category up to 27 years old is more likely to leave the fitness center than older people.\n",
    "3. Revenue from other goods and services (avg_additional_charges_total) - the impact on the outflow is not pronounced, probably the relationship is weak.\n",
    "4. The number of months until the end of the subscription (month_to_end_contract) - the more time left until the end of the subscription, the less likely the client is to churn. The main outflow is among those who have 1 month left.\n",
    "5. Time since the first visit (lifetime) - among those who have a long \"lifetime\" there is almost no outflow.\n",
    "6. Average visit frequency per week (avg_class_frequency_total) - for those who go up to 2 times a week, the churn shares are approximately the same, but if the client goes 3 or more times, then there is no churn at all, but there are much fewer such clients.\n",
    "7. Average frequency of visits in the last month (avg_class_frequency_current_month) - among those who visit fitness more often in the last month, the churn rate is lower."
   ]
  },
  {
   "cell_type": "code",
   "execution_count": 19,
   "metadata": {},
   "outputs": [
    {
     "data": {
      "image/png": "[encoded data removed]",
      "text/plain": [
       "<Figure size 1080x576 with 2 Axes>"
      ]
     },
     "metadata": {
      "needs_background": "light"
     },
     "output_type": "display_data"
    }
   ],
   "source": [
    "matr_corr = data.corr()\n",
    "plt.figure(figsize=(15,8))\n",
    "sns.heatmap(matr_corr, annot = True, square=False)\n",
    "plt.title('Матрица корреляций признаков', fontsize = 18)\n",
    "plt.xlabel('Признаки', fontsize = 14) \n",
    "plt.ylabel('Признаки', fontsize = 14) \n",
    "plt.show()"
   ]
  },
  {
   "cell_type": "markdown",
   "metadata": {},
   "source": [
    "According to the correlation matrix, we can say that all signs have a negative correlation for churn, which means that the stronger the sign, the weaker the outflow. Churn is most correlated with subscription duration (contract_period), age (age), contract duration (lifetime), and visit frequency in the last month (avg_class_frequency_current_month).\n",
    "Nevertheless, the correlation is weak in all respects.\n",
    "\n",
    "Gender (gender) and phone number (phone) - no effect of features on outflow, correlation is almost 0. Near_location, 'partner', 'promo_friends', 'group_visits', 'avg_additional_charges_total', 'avg_class_frequency_total'. The correlation in the range -(0.1-0.25) is very weak.\n",
    "\n",
    "It should also be noted that there is a very strong (above 0.95) correlation of pairs of features (multicollinearity is possible), which will need to be taken into account in linear regression models:\n",
    "a) 'contract_period' and 'month_to_end_contract' - the longer the subscription period, the more likely there are more months left;\n",
    "b) 'avg_class_frequency_current_month' and 'avg_class_frequency_total' - those who have been walking with a regular schedule for a long time, most likely walked with the same schedule for the last month."
   ]
  },
  {
   "cell_type": "markdown",
   "metadata": {},
   "source": [
    "### Conclusion on exploratory data analysis\n",
    "1. There are no significant outliers in the data.\n",
    "2. All features have a negative correlation with the target variable (that is, the stronger the feature, the weaker the outflow of customers)\n",
    "3. 5 features have a weak correlation with the target, the remaining features have a very weak or no correlation.\n",
    "4. In 2 pairs of features, multicollinearity is likely."
   ]
  },
  {
   "cell_type": "markdown",
   "metadata": {},
   "source": [
    "## Churn Prediction Model\n",
    "The forecasting model is binary, since the target feature is binary (churn/not churn).\n",
    "The target feature is the fact that the client churns in the next month."
   ]
  },
  {
   "cell_type": "code",
   "execution_count": 20,
   "metadata": {},
   "outputs": [],
   "source": [
    "X = data.drop('churn', axis=1)\n",
    "y = data['churn'] "
   ]
  },
  {
   "cell_type": "markdown",
   "metadata": {},
   "source": [
    "### Splitting the data into training and validation sets.\n",
    "We divide the model into training and validation sets, apply standardization. The data is not tied to time, then you can apply \"Random split\"."
   ]
  },
  {
   "cell_type": "code",
   "execution_count": 21,
   "metadata": {},
   "outputs": [
    {
     "data": {
      "text/plain": [
       "array([[-1.01511421,  0.4175068 ,  1.03175391,  1.4800097 ,  0.31628211,\n",
       "         1.60502986, -0.84769226,  0.57944798,  0.37161711,  1.59173796,\n",
       "         1.12734972,  1.75580418,  1.61822807],\n",
       "       [-1.01511421,  0.4175068 , -0.96922337, -0.67567125,  0.31628211,\n",
       "        -0.81299073, -0.84769226,  0.27046055, -1.09697378, -0.79568246,\n",
       "         5.88138322, -0.2239674 , -0.01340886],\n",
       "       [ 0.98511083,  0.4175068 ,  1.03175391, -0.67567125,  0.31628211,\n",
       "         1.60502986, -0.84769226, -0.65650171, -1.18374157,  1.83048   ,\n",
       "         0.3350108 , -0.84308456, -0.80541199],\n",
       "       [-1.01511421,  0.4175068 ,  1.03175391,  1.4800097 ,  0.31628211,\n",
       "         0.28610954, -0.84769226, -0.96548914, -0.95158829,  0.39802775,\n",
       "         1.39146269,  0.66771379,  0.64605224],\n",
       "       [-1.01511421,  0.4175068 , -0.96922337, -0.67567125, -3.16173427,\n",
       "        -0.81299073, -0.84769226, -0.03852687,  0.97190435, -0.79568246,\n",
       "         0.07089783, -0.19587934, -0.16038147]])"
      ]
     },
     "metadata": {},
     "output_type": "display_data"
    }
   ],
   "source": [
    "X_train, X_test, y_train, y_test = train_test_split(X, y, test_size=0.2, random_state=0)\n",
    "scaler = StandardScaler()\n",
    "X_train_st = scaler.fit_transform(X_train) \n",
    "display(X_train_st[:5])\n",
    "\n",
    "X_test_st = scaler.transform(X_test) "
   ]
  },
  {
   "cell_type": "markdown",
   "metadata": {},
   "source": [
    "### Models \"Logistic regression\" and \"Random forest\", calculation of metrics"
   ]
  },
  {
   "cell_type": "code",
   "execution_count": 22,
   "metadata": {},
   "outputs": [
    {
     "name": "stdout",
     "output_type": "stream",
     "text": [
      "Модель - \"Логистическая регрессия\"\n",
      "Доля правильных ответов: Accuracy = 0.922\n",
      "Точность: precision = 0.854\n",
      "Полнота: recall = 0.828 \n",
      "\n",
      "Модель - \"Случайный лес\"\n",
      "Доля правильных ответов: Accuracy = 0.915\n",
      "Точность: precision = 0.839\n",
      "Полнота: recall = 0.813 \n",
      "\n"
     ]
    }
   ],
   "source": [
    "def show_metrics(name, mdl):\n",
    "    mdl.fit(X_train_st, y_train)\n",
    "    y_pred = mdl.predict(X_test_st)\n",
    "    print(\"Модель -\", name)\n",
    "\n",
    "    acc = accuracy_score(y_test, y_pred)\n",
    "    print(\"Доля правильных ответов: Accuracy =\",acc.round(3))\n",
    "    precision = precision_score(y_test, y_pred).round(3)\n",
    "    print(\"Точность: precision =\", precision)\n",
    "    recall = recall_score(y_test, y_pred).round(3)\n",
    "    print(\"Полнота: recall =\", recall, '\\n')\n",
    "\n",
    "model = LogisticRegression(random_state=0)\n",
    "show_metrics('\"Логистическая регрессия\"', model)\n",
    "\n",
    "model = RandomForestClassifier(n_estimators = 100, random_state=0)\n",
    "show_metrics('\"Случайный лес\"', model)"
   ]
  },
  {
   "cell_type": "markdown",
   "metadata": {},
   "source": [
    "1. The Accuracy parameter for \"Logistic Regression\" is slightly higher (0.922, for \"Random Forest\" 0.915),\n",
    "2. The Precision parameter also has a higher value for \"Logistic Regression\" (0.854, for \"Random Forest\" 0.839),\n",
    "3. The Recall parameter is also slightly better for \"Logistic Regression\" (0.828, for \"Random Forest\" 0.813)\n",
    "Thus, in all respects, \"Logistic Regression\" gives a slightly better result than \"Random Forest\". But both models have very high Accuracy (more than 0.91), precision and recall (in the range of 0.813 - 0.854), which means that the models are quite accurate."
   ]
  },
  {
   "cell_type": "markdown",
   "metadata": {},
   "source": [
    "## Client clustering"
   ]
  },
  {
   "cell_type": "markdown",
   "metadata": {},
   "source": [
    "### Data standardization"
   ]
  },
  {
   "cell_type": "code",
   "execution_count": 23,
   "metadata": {},
   "outputs": [
    {
     "data": {
      "text/plain": [
       "array([[ 0.97970588,  0.42788074,  1.02686062,  1.49716101, -3.05985201,\n",
       "         0.28989014,  1.19403206, -0.0565538 , -1.37753121,  0.16160501,\n",
       "        -0.19332863, -1.91191971, -1.67847198],\n",
       "       [-1.0207145 ,  0.42788074, -0.973842  , -0.66793083,  0.32681319,\n",
       "         1.60882159,  1.19403206,  0.55732732, -0.35021325,  1.83194105,\n",
       "         0.87368001,  0.04517569,  0.1360137 ],\n",
       "       [-1.0207145 ,  0.42788074,  1.02686062, -0.66793083,  0.32681319,\n",
       "        -0.8092194 , -0.83749845, -0.36349436, -0.1815923 , -0.79287273,\n",
       "        -0.46008079, -0.02049263, -0.02901851]])"
      ]
     },
     "execution_count": 23,
     "metadata": {},
     "output_type": "execute_result"
    }
   ],
   "source": [
    "sc = StandardScaler()\n",
    "X_sc = sc.fit_transform(X)\n",
    "X_sc[:3]"
   ]
  },
  {
   "cell_type": "markdown",
   "metadata": {},
   "source": [
    "### Distance matrix, dendrogram"
   ]
  },
  {
   "cell_type": "code",
   "execution_count": 24,
   "metadata": {},
   "outputs": [
    {
     "data": {
      "text/plain": [
       "array([[9.70000000e+01, 3.22200000e+03, 1.00990653e-01, 2.00000000e+00],\n",
       "       [2.61000000e+02, 3.17900000e+03, 1.22634574e-01, 2.00000000e+00],\n",
       "       [8.90000000e+02, 1.75000000e+03, 1.28123291e-01, 2.00000000e+00],\n",
       "       ...,\n",
       "       [7.98700000e+03, 7.99500000e+03, 8.38725499e+01, 2.65600000e+03],\n",
       "       [7.98800000e+03, 7.99600000e+03, 8.89563592e+01, 3.03400000e+03],\n",
       "       [7.99200000e+03, 7.99700000e+03, 1.04627601e+02, 4.00000000e+03]])"
      ]
     },
     "execution_count": 24,
     "metadata": {},
     "output_type": "execute_result"
    }
   ],
   "source": [
    "linkage = linkage(X_sc, method = 'ward')\n",
    "linkage"
   ]
  },
  {
   "cell_type": "code",
   "execution_count": 25,
   "metadata": {},
   "outputs": [
    {
     "data": {
      "image/png": "[encoded data removed]",
      "text/plain": [
       "<Figure size 936x720 with 1 Axes>"
      ]
     },
     "metadata": {
      "needs_background": "light"
     },
     "output_type": "display_data"
    }
   ],
   "source": [
    "plt.figure(figsize=(13, 10))  \n",
    "dendrogram(linkage, orientation='top')\n",
    "plt.title('Иерархическая кластеризация клиентов')\n",
    "plt.show()"
   ]
  },
  {
   "cell_type": "markdown",
   "metadata": {},
   "source": [
    "Visually, you can select either 4 (by color) or 6 (by geometry) client clusters. "
   ]
  },
  {
   "cell_type": "markdown",
   "metadata": {},
   "source": [
    "### K-Means model of clasterisation"
   ]
  },
  {
   "cell_type": "code",
   "execution_count": 26,
   "metadata": {},
   "outputs": [
    {
     "data": {
      "text/plain": [
       "array([1, 0, 3, ..., 0, 0, 1], dtype=int32)"
      ]
     },
     "execution_count": 26,
     "metadata": {},
     "output_type": "execute_result"
    }
   ],
   "source": [
    "km = KMeans(n_clusters = 5, random_state=0) \n",
    "labels = km.fit_predict(X_sc) \n",
    "labels"
   ]
  },
  {
   "cell_type": "code",
   "execution_count": 27,
   "metadata": {},
   "outputs": [
    {
     "data": {
      "text/html": [
       "<div>\n",
       "<style scoped>\n",
       "    .dataframe tbody tr th:only-of-type {\n",
       "        vertical-align: middle;\n",
       "    }\n",
       "\n",
       "    .dataframe tbody tr th {\n",
       "        vertical-align: top;\n",
       "    }\n",
       "\n",
       "    .dataframe thead th {\n",
       "        text-align: right;\n",
       "    }\n",
       "</style>\n",
       "<table border=\"1\" class=\"dataframe\">\n",
       "  <thead>\n",
       "    <tr style=\"text-align: right;\">\n",
       "      <th></th>\n",
       "      <th>gender</th>\n",
       "      <th>near_location</th>\n",
       "      <th>partner</th>\n",
       "      <th>promo_friends</th>\n",
       "      <th>phone</th>\n",
       "      <th>contract_period</th>\n",
       "      <th>group_visits</th>\n",
       "      <th>age</th>\n",
       "      <th>avg_additional_charges_total</th>\n",
       "      <th>month_to_end_contract</th>\n",
       "      <th>lifetime</th>\n",
       "      <th>avg_class_frequency_total</th>\n",
       "      <th>avg_class_frequency_current_month</th>\n",
       "      <th>churn</th>\n",
       "      <th>cluster</th>\n",
       "    </tr>\n",
       "  </thead>\n",
       "  <tbody>\n",
       "    <tr>\n",
       "      <th>0</th>\n",
       "      <td>True</td>\n",
       "      <td>True</td>\n",
       "      <td>True</td>\n",
       "      <td>True</td>\n",
       "      <td>False</td>\n",
       "      <td>6</td>\n",
       "      <td>True</td>\n",
       "      <td>29</td>\n",
       "      <td>14.227470</td>\n",
       "      <td>5</td>\n",
       "      <td>3</td>\n",
       "      <td>0.020398</td>\n",
       "      <td>0.000000</td>\n",
       "      <td>False</td>\n",
       "      <td>1</td>\n",
       "    </tr>\n",
       "    <tr>\n",
       "      <th>1</th>\n",
       "      <td>False</td>\n",
       "      <td>True</td>\n",
       "      <td>False</td>\n",
       "      <td>False</td>\n",
       "      <td>True</td>\n",
       "      <td>12</td>\n",
       "      <td>True</td>\n",
       "      <td>31</td>\n",
       "      <td>113.202938</td>\n",
       "      <td>12</td>\n",
       "      <td>7</td>\n",
       "      <td>1.922936</td>\n",
       "      <td>1.910244</td>\n",
       "      <td>False</td>\n",
       "      <td>0</td>\n",
       "    </tr>\n",
       "    <tr>\n",
       "      <th>2</th>\n",
       "      <td>False</td>\n",
       "      <td>True</td>\n",
       "      <td>True</td>\n",
       "      <td>False</td>\n",
       "      <td>True</td>\n",
       "      <td>1</td>\n",
       "      <td>False</td>\n",
       "      <td>28</td>\n",
       "      <td>129.448479</td>\n",
       "      <td>1</td>\n",
       "      <td>2</td>\n",
       "      <td>1.859098</td>\n",
       "      <td>1.736502</td>\n",
       "      <td>False</td>\n",
       "      <td>3</td>\n",
       "    </tr>\n",
       "    <tr>\n",
       "      <th>3</th>\n",
       "      <td>False</td>\n",
       "      <td>True</td>\n",
       "      <td>True</td>\n",
       "      <td>True</td>\n",
       "      <td>True</td>\n",
       "      <td>12</td>\n",
       "      <td>True</td>\n",
       "      <td>33</td>\n",
       "      <td>62.669863</td>\n",
       "      <td>12</td>\n",
       "      <td>2</td>\n",
       "      <td>3.205633</td>\n",
       "      <td>3.357215</td>\n",
       "      <td>False</td>\n",
       "      <td>0</td>\n",
       "    </tr>\n",
       "    <tr>\n",
       "      <th>4</th>\n",
       "      <td>True</td>\n",
       "      <td>True</td>\n",
       "      <td>True</td>\n",
       "      <td>True</td>\n",
       "      <td>True</td>\n",
       "      <td>1</td>\n",
       "      <td>False</td>\n",
       "      <td>26</td>\n",
       "      <td>198.362265</td>\n",
       "      <td>1</td>\n",
       "      <td>3</td>\n",
       "      <td>1.113884</td>\n",
       "      <td>1.120078</td>\n",
       "      <td>False</td>\n",
       "      <td>3</td>\n",
       "    </tr>\n",
       "    <tr>\n",
       "      <th>...</th>\n",
       "      <td>...</td>\n",
       "      <td>...</td>\n",
       "      <td>...</td>\n",
       "      <td>...</td>\n",
       "      <td>...</td>\n",
       "      <td>...</td>\n",
       "      <td>...</td>\n",
       "      <td>...</td>\n",
       "      <td>...</td>\n",
       "      <td>...</td>\n",
       "      <td>...</td>\n",
       "      <td>...</td>\n",
       "      <td>...</td>\n",
       "      <td>...</td>\n",
       "      <td>...</td>\n",
       "    </tr>\n",
       "    <tr>\n",
       "      <th>3995</th>\n",
       "      <td>True</td>\n",
       "      <td>True</td>\n",
       "      <td>True</td>\n",
       "      <td>False</td>\n",
       "      <td>True</td>\n",
       "      <td>12</td>\n",
       "      <td>False</td>\n",
       "      <td>33</td>\n",
       "      <td>2.406023</td>\n",
       "      <td>12</td>\n",
       "      <td>8</td>\n",
       "      <td>2.284497</td>\n",
       "      <td>2.349070</td>\n",
       "      <td>False</td>\n",
       "      <td>0</td>\n",
       "    </tr>\n",
       "    <tr>\n",
       "      <th>3996</th>\n",
       "      <td>False</td>\n",
       "      <td>True</td>\n",
       "      <td>False</td>\n",
       "      <td>False</td>\n",
       "      <td>True</td>\n",
       "      <td>1</td>\n",
       "      <td>True</td>\n",
       "      <td>29</td>\n",
       "      <td>68.883764</td>\n",
       "      <td>1</td>\n",
       "      <td>1</td>\n",
       "      <td>1.277168</td>\n",
       "      <td>0.292859</td>\n",
       "      <td>True</td>\n",
       "      <td>3</td>\n",
       "    </tr>\n",
       "    <tr>\n",
       "      <th>3997</th>\n",
       "      <td>True</td>\n",
       "      <td>True</td>\n",
       "      <td>True</td>\n",
       "      <td>True</td>\n",
       "      <td>True</td>\n",
       "      <td>12</td>\n",
       "      <td>False</td>\n",
       "      <td>28</td>\n",
       "      <td>78.250542</td>\n",
       "      <td>11</td>\n",
       "      <td>2</td>\n",
       "      <td>2.786146</td>\n",
       "      <td>2.831439</td>\n",
       "      <td>False</td>\n",
       "      <td>0</td>\n",
       "    </tr>\n",
       "    <tr>\n",
       "      <th>3998</th>\n",
       "      <td>False</td>\n",
       "      <td>True</td>\n",
       "      <td>True</td>\n",
       "      <td>True</td>\n",
       "      <td>True</td>\n",
       "      <td>6</td>\n",
       "      <td>False</td>\n",
       "      <td>32</td>\n",
       "      <td>61.912657</td>\n",
       "      <td>5</td>\n",
       "      <td>3</td>\n",
       "      <td>1.630108</td>\n",
       "      <td>1.596237</td>\n",
       "      <td>False</td>\n",
       "      <td>0</td>\n",
       "    </tr>\n",
       "    <tr>\n",
       "      <th>3999</th>\n",
       "      <td>True</td>\n",
       "      <td>False</td>\n",
       "      <td>True</td>\n",
       "      <td>False</td>\n",
       "      <td>False</td>\n",
       "      <td>12</td>\n",
       "      <td>True</td>\n",
       "      <td>30</td>\n",
       "      <td>178.861814</td>\n",
       "      <td>12</td>\n",
       "      <td>1</td>\n",
       "      <td>1.101832</td>\n",
       "      <td>1.035270</td>\n",
       "      <td>False</td>\n",
       "      <td>1</td>\n",
       "    </tr>\n",
       "  </tbody>\n",
       "</table>\n",
       "<p>4000 rows × 15 columns</p>\n",
       "</div>"
      ],
      "text/plain": [
       "      gender  near_location  partner  promo_friends  phone  contract_period  \\\n",
       "0       True           True     True           True  False                6   \n",
       "1      False           True    False          False   True               12   \n",
       "2      False           True     True          False   True                1   \n",
       "3      False           True     True           True   True               12   \n",
       "4       True           True     True           True   True                1   \n",
       "...      ...            ...      ...            ...    ...              ...   \n",
       "3995    True           True     True          False   True               12   \n",
       "3996   False           True    False          False   True                1   \n",
       "3997    True           True     True           True   True               12   \n",
       "3998   False           True     True           True   True                6   \n",
       "3999    True          False     True          False  False               12   \n",
       "\n",
       "      group_visits  age  avg_additional_charges_total  month_to_end_contract  \\\n",
       "0             True   29                     14.227470                      5   \n",
       "1             True   31                    113.202938                     12   \n",
       "2            False   28                    129.448479                      1   \n",
       "3             True   33                     62.669863                     12   \n",
       "4            False   26                    198.362265                      1   \n",
       "...            ...  ...                           ...                    ...   \n",
       "3995         False   33                      2.406023                     12   \n",
       "3996          True   29                     68.883764                      1   \n",
       "3997         False   28                     78.250542                     11   \n",
       "3998         False   32                     61.912657                      5   \n",
       "3999          True   30                    178.861814                     12   \n",
       "\n",
       "      lifetime  avg_class_frequency_total  avg_class_frequency_current_month  \\\n",
       "0            3                   0.020398                           0.000000   \n",
       "1            7                   1.922936                           1.910244   \n",
       "2            2                   1.859098                           1.736502   \n",
       "3            2                   3.205633                           3.357215   \n",
       "4            3                   1.113884                           1.120078   \n",
       "...        ...                        ...                                ...   \n",
       "3995         8                   2.284497                           2.349070   \n",
       "3996         1                   1.277168                           0.292859   \n",
       "3997         2                   2.786146                           2.831439   \n",
       "3998         3                   1.630108                           1.596237   \n",
       "3999         1                   1.101832                           1.035270   \n",
       "\n",
       "      churn  cluster  \n",
       "0     False        1  \n",
       "1     False        0  \n",
       "2     False        3  \n",
       "3     False        0  \n",
       "4     False        3  \n",
       "...     ...      ...  \n",
       "3995  False        0  \n",
       "3996   True        3  \n",
       "3997  False        0  \n",
       "3998  False        0  \n",
       "3999  False        1  \n",
       "\n",
       "[4000 rows x 15 columns]"
      ]
     },
     "execution_count": 27,
     "metadata": {},
     "output_type": "execute_result"
    }
   ],
   "source": [
    "data['cluster'] = labels\n",
    "data"
   ]
  },
  {
   "cell_type": "code",
   "execution_count": 28,
   "metadata": {
    "scrolled": true
   },
   "outputs": [
    {
     "data": {
      "text/plain": [
       "cluster\n",
       "0    1010\n",
       "1     385\n",
       "2     505\n",
       "3    1262\n",
       "4     838\n",
       "Name: gender, dtype: int64"
      ]
     },
     "execution_count": 28,
     "metadata": {},
     "output_type": "execute_result"
    }
   ],
   "source": [
    "data.groupby(['cluster'])['gender'].count()"
   ]
  },
  {
   "cell_type": "markdown",
   "metadata": {},
   "source": [
    "There are large differences in the number of clients in different clusters (the largest is 3 - 1262, the smallest is 1 - 385)."
   ]
  },
  {
   "cell_type": "code",
   "execution_count": 29,
   "metadata": {
    "scrolled": true
   },
   "outputs": [
    {
     "data": {
      "text/html": [
       "<div>\n",
       "<style scoped>\n",
       "    .dataframe tbody tr th:only-of-type {\n",
       "        vertical-align: middle;\n",
       "    }\n",
       "\n",
       "    .dataframe tbody tr th {\n",
       "        vertical-align: top;\n",
       "    }\n",
       "\n",
       "    .dataframe thead th {\n",
       "        text-align: right;\n",
       "    }\n",
       "</style>\n",
       "<table border=\"1\" class=\"dataframe\">\n",
       "  <thead>\n",
       "    <tr style=\"text-align: right;\">\n",
       "      <th>cluster</th>\n",
       "      <th>0</th>\n",
       "      <th>1</th>\n",
       "      <th>2</th>\n",
       "      <th>3</th>\n",
       "      <th>4</th>\n",
       "    </tr>\n",
       "  </thead>\n",
       "  <tbody>\n",
       "    <tr>\n",
       "      <th>gender</th>\n",
       "      <td>0.502970</td>\n",
       "      <td>0.522078</td>\n",
       "      <td>0.495050</td>\n",
       "      <td>0.485737</td>\n",
       "      <td>0.559666</td>\n",
       "    </tr>\n",
       "    <tr>\n",
       "      <th>near_location</th>\n",
       "      <td>0.959406</td>\n",
       "      <td>0.862338</td>\n",
       "      <td>0.000000</td>\n",
       "      <td>1.000000</td>\n",
       "      <td>0.976134</td>\n",
       "    </tr>\n",
       "    <tr>\n",
       "      <th>partner</th>\n",
       "      <td>0.783168</td>\n",
       "      <td>0.470130</td>\n",
       "      <td>0.463366</td>\n",
       "      <td>0.350238</td>\n",
       "      <td>0.356802</td>\n",
       "    </tr>\n",
       "    <tr>\n",
       "      <th>promo_friends</th>\n",
       "      <td>0.574257</td>\n",
       "      <td>0.306494</td>\n",
       "      <td>0.079208</td>\n",
       "      <td>0.240095</td>\n",
       "      <td>0.230310</td>\n",
       "    </tr>\n",
       "    <tr>\n",
       "      <th>phone</th>\n",
       "      <td>1.000000</td>\n",
       "      <td>0.000000</td>\n",
       "      <td>1.000000</td>\n",
       "      <td>1.000000</td>\n",
       "      <td>0.998807</td>\n",
       "    </tr>\n",
       "    <tr>\n",
       "      <th>contract_period</th>\n",
       "      <td>10.889109</td>\n",
       "      <td>4.787013</td>\n",
       "      <td>2.352475</td>\n",
       "      <td>1.948494</td>\n",
       "      <td>2.669451</td>\n",
       "    </tr>\n",
       "    <tr>\n",
       "      <th>group_visits</th>\n",
       "      <td>0.542574</td>\n",
       "      <td>0.425974</td>\n",
       "      <td>0.215842</td>\n",
       "      <td>0.341521</td>\n",
       "      <td>0.473747</td>\n",
       "    </tr>\n",
       "    <tr>\n",
       "      <th>age</th>\n",
       "      <td>29.982178</td>\n",
       "      <td>29.301299</td>\n",
       "      <td>28.477228</td>\n",
       "      <td>28.167987</td>\n",
       "      <td>30.125298</td>\n",
       "    </tr>\n",
       "    <tr>\n",
       "      <th>avg_additional_charges_total</th>\n",
       "      <td>160.761016</td>\n",
       "      <td>143.957664</td>\n",
       "      <td>135.457501</td>\n",
       "      <td>131.622204</td>\n",
       "      <td>161.657905</td>\n",
       "    </tr>\n",
       "    <tr>\n",
       "      <th>month_to_end_contract</th>\n",
       "      <td>9.954455</td>\n",
       "      <td>4.475325</td>\n",
       "      <td>2.198020</td>\n",
       "      <td>1.856577</td>\n",
       "      <td>2.459427</td>\n",
       "    </tr>\n",
       "    <tr>\n",
       "      <th>lifetime</th>\n",
       "      <td>4.736634</td>\n",
       "      <td>3.924675</td>\n",
       "      <td>2.809901</td>\n",
       "      <td>2.440571</td>\n",
       "      <td>4.898568</td>\n",
       "    </tr>\n",
       "    <tr>\n",
       "      <th>avg_class_frequency_total</th>\n",
       "      <td>1.982055</td>\n",
       "      <td>1.847220</td>\n",
       "      <td>1.660461</td>\n",
       "      <td>1.247634</td>\n",
       "      <td>2.852002</td>\n",
       "    </tr>\n",
       "    <tr>\n",
       "      <th>avg_class_frequency_current_month</th>\n",
       "      <td>1.974789</td>\n",
       "      <td>1.716369</td>\n",
       "      <td>1.477324</td>\n",
       "      <td>1.012983</td>\n",
       "      <td>2.850161</td>\n",
       "    </tr>\n",
       "  </tbody>\n",
       "</table>\n",
       "</div>"
      ],
      "text/plain": [
       "cluster                                     0           1           2  \\\n",
       "gender                               0.502970    0.522078    0.495050   \n",
       "near_location                        0.959406    0.862338    0.000000   \n",
       "partner                              0.783168    0.470130    0.463366   \n",
       "promo_friends                        0.574257    0.306494    0.079208   \n",
       "phone                                1.000000    0.000000    1.000000   \n",
       "contract_period                     10.889109    4.787013    2.352475   \n",
       "group_visits                         0.542574    0.425974    0.215842   \n",
       "age                                 29.982178   29.301299   28.477228   \n",
       "avg_additional_charges_total       160.761016  143.957664  135.457501   \n",
       "month_to_end_contract                9.954455    4.475325    2.198020   \n",
       "lifetime                             4.736634    3.924675    2.809901   \n",
       "avg_class_frequency_total            1.982055    1.847220    1.660461   \n",
       "avg_class_frequency_current_month    1.974789    1.716369    1.477324   \n",
       "\n",
       "cluster                                     3           4  \n",
       "gender                               0.485737    0.559666  \n",
       "near_location                        1.000000    0.976134  \n",
       "partner                              0.350238    0.356802  \n",
       "promo_friends                        0.240095    0.230310  \n",
       "phone                                1.000000    0.998807  \n",
       "contract_period                      1.948494    2.669451  \n",
       "group_visits                         0.341521    0.473747  \n",
       "age                                 28.167987   30.125298  \n",
       "avg_additional_charges_total       131.622204  161.657905  \n",
       "month_to_end_contract                1.856577    2.459427  \n",
       "lifetime                             2.440571    4.898568  \n",
       "avg_class_frequency_total            1.247634    2.852002  \n",
       "avg_class_frequency_current_month    1.012983    2.850161  "
      ]
     },
     "execution_count": 29,
     "metadata": {},
     "output_type": "execute_result"
    }
   ],
   "source": [
    "data.drop('churn', axis=1).groupby('cluster').mean().T"
   ]
  },
  {
   "cell_type": "markdown",
   "metadata": {},
   "source": [
    "Let's single out features by clusters:\n",
    "\n",
    "Cluster 0:\n",
    "A high proportion of participants in the affiliate program (partner) - 78.3%,\n",
    "The average share of participants in the promotion bring a friend (promo_friends) - 57.4%\n",
    "Long subscription period (contract_period) - 11 months on average.\n",
    "A large number of months until the end of the subscription (month_to_end_contract) - 10 months\n",
    "Portrait of a client - they came through an affiliate program or a promotion, bought a subscription immediately for 1 year and have been going for a little 1-2 months so far. The dropout rate should be very low.\n",
    "\n",
    "Cluster 1:\n",
    "In this cluster, no one left a phone number in the questionnaire, and the rest of the features are not prominent.\n",
    "\n",
    "Cluster 2:\n",
    "Live far from the gym (near_location) = 0\n",
    "Came not for a promotion or affiliate group, almost never use group classes (group_visits) = 21.6%\n",
    "\n",
    "Cluster 3:\n",
    "Average visit frequency low (avg_class_frequency_total) = 1.25, last month also (avg_class_frequency_current_month) = 1.01, likely to churn\n",
    "\n",
    "Cluster 4:\n",
    "The average visit frequency is very high (avg_class_frequency_total) = 2.85 and persists in the last month (avg_class_frequency_current_month) = 2.85. Athletes and fitness enthusiasts go frequently, and churn is expected to be minimal."
   ]
  },
  {
   "cell_type": "markdown",
   "metadata": {},
   "source": [
    "### Distribution of features by clusters"
   ]
  },
  {
   "cell_type": "code",
   "execution_count": 30,
   "metadata": {},
   "outputs": [
    {
     "data": {
      "image/png": "[encoded data removed]",
      "text/plain": [
       "<Figure size 288x360 with 1 Axes>"
      ]
     },
     "metadata": {
      "needs_background": "light"
     },
     "output_type": "display_data"
    },
    {
     "data": {
      "image/png": "[encoded data removed]",
      "text/plain": [
       "<Figure size 288x360 with 1 Axes>"
      ]
     },
     "metadata": {
      "needs_background": "light"
     },
     "output_type": "display_data"
    },
    {
     "data": {
      "image/png": "[encoded data removed]",
      "text/plain": [
       "<Figure size 288x360 with 1 Axes>"
      ]
     },
     "metadata": {
      "needs_background": "light"
     },
     "output_type": "display_data"
    },
    {
     "data": {
      "image/png": "[encoded data removed]",
      "text/plain": [
       "<Figure size 288x360 with 1 Axes>"
      ]
     },
     "metadata": {
      "needs_background": "light"
     },
     "output_type": "display_data"
    },
    {
     "data": {
      "image/png": "[encoded data removed]",
      "text/plain": [
       "<Figure size 288x360 with 1 Axes>"
      ]
     },
     "metadata": {
      "needs_background": "light"
     },
     "output_type": "display_data"
    },
    {
     "data": {
      "image/png": "[encoded data removed]",
      "text/plain": [
       "<Figure size 288x360 with 1 Axes>"
      ]
     },
     "metadata": {
      "needs_background": "light"
     },
     "output_type": "display_data"
    },
    {
     "data": {
      "image/png": "[encoded data removed]",
      "text/plain": [
       "<Figure size 288x360 with 1 Axes>"
      ]
     },
     "metadata": {
      "needs_background": "light"
     },
     "output_type": "display_data"
    }
   ],
   "source": [
    "for f in bool_features:\n",
    "    g = sns.displot(data, x=data[f], hue='cluster')\n",
    "    plt.xticks([0, 1])\n",
    "    plt.title(f'Признак - {f}')\n",
    "    plt.ylabel(\"Кол-во клиентов\")\n",
    "    plt.xlabel(\"\")\n",
    "    g.fig.set_figwidth(4)\n",
    "    g.fig.set_figheight(5)\n",
    "    g.fig.patch.set_linewidth(5)"
   ]
  },
  {
   "cell_type": "markdown",
   "metadata": {},
   "source": [
    "According to Boolean features, the following features of clusters can be distinguished:\n",
    "1. Living nearby (near_location) - cluster \"2\" stands out strongly\n",
    "2. Affiliate program (partner) - Cluster \"3\" - those who are not partners, Cluster \"0\" are.\n",
    "3. Action bring a friend (promo_friends) - Clusters \"1\" and \"3\" - those who are not partners, Clusters \"0\" and \"4\" - are\n",
    "4. Phone number (phone) - Cluster \"1\" - those who did not leave a phone number\n",
    "5. Group lessons (group_visits) - Cluster \"3\" - attend group lessons less often. Cluster \"0\" - frequented."
   ]
  },
  {
   "cell_type": "code",
   "execution_count": 31,
   "metadata": {},
   "outputs": [
    {
     "data": {
      "image/png": "[encoded data removed]",
      "text/plain": [
       "<Figure size 1080x720 with 9 Axes>"
      ]
     },
     "metadata": {
      "needs_background": "light"
     },
     "output_type": "display_data"
    },
    {
     "data": {
      "image/png": "[encoded data removed]",
      "text/plain": [
       "<Figure size 1080x720 with 9 Axes>"
      ]
     },
     "metadata": {
      "needs_background": "light"
     },
     "output_type": "display_data"
    },
    {
     "data": {
      "image/png": "[encoded data removed]",
      "text/plain": [
       "<Figure size 1080x720 with 9 Axes>"
      ]
     },
     "metadata": {
      "needs_background": "light"
     },
     "output_type": "display_data"
    },
    {
     "data": {
      "image/png": "[encoded data removed]",
      "text/plain": [
       "<Figure size 1080x720 with 9 Axes>"
      ]
     },
     "metadata": {
      "needs_background": "light"
     },
     "output_type": "display_data"
    },
    {
     "data": {
      "image/png": "[encoded data removed]",
      "text/plain": [
       "<Figure size 1080x720 with 9 Axes>"
      ]
     },
     "metadata": {
      "needs_background": "light"
     },
     "output_type": "display_data"
    }
   ],
   "source": [
    "for value in [0, 1, 2, 3, 4]:\n",
    "  data[data['cluster']==value].hist(figsize=(15,10))\n",
    "  plt.suptitle('\\nРаспределение признаков кластера {}'.format(value), fontsize = 13)\n",
    "  plt.show()"
   ]
  },
  {
   "cell_type": "code",
   "execution_count": 32,
   "metadata": {},
   "outputs": [
    {
     "data": {
      "image/png": "[encoded data removed]",
      "text/plain": [
       "<Figure size 432x288 with 1 Axes>"
      ]
     },
     "metadata": {
      "needs_background": "light"
     },
     "output_type": "display_data"
    },
    {
     "data": {
      "image/png": "[encoded data removed]",
      "text/plain": [
       "<Figure size 432x288 with 1 Axes>"
      ]
     },
     "metadata": {
      "needs_background": "light"
     },
     "output_type": "display_data"
    },
    {
     "data": {
      "image/png": "[encoded data removed]",
      "text/plain": [
       "<Figure size 432x288 with 1 Axes>"
      ]
     },
     "metadata": {
      "needs_background": "light"
     },
     "output_type": "display_data"
    },
    {
     "data": {
      "image/png": "[encoded data removed]",
      "text/plain": [
       "<Figure size 432x288 with 1 Axes>"
      ]
     },
     "metadata": {
      "needs_background": "light"
     },
     "output_type": "display_data"
    },
    {
     "data": {
      "image/png": "[encoded data removed]",
      "text/plain": [
       "<Figure size 432x288 with 1 Axes>"
      ]
     },
     "metadata": {
      "needs_background": "light"
     },
     "output_type": "display_data"
    },
    {
     "data": {
      "image/png": "[encoded data removed]",
      "text/plain": [
       "<Figure size 432x288 with 1 Axes>"
      ]
     },
     "metadata": {
      "needs_background": "light"
     },
     "output_type": "display_data"
    },
    {
     "data": {
      "image/png": "[encoded data removed]",
      "text/plain": [
       "<Figure size 432x288 with 1 Axes>"
      ]
     },
     "metadata": {
      "needs_background": "light"
     },
     "output_type": "display_data"
    }
   ],
   "source": [
    "for i in bool_features:\n",
    "    plt.figure(i)\n",
    "    ax = sns.countplot(x= \"cluster\", hue= \"churn\", data=data)"
   ]
  },
  {
   "cell_type": "code",
   "execution_count": 33,
   "metadata": {},
   "outputs": [
    {
     "data": {
      "image/png": "[encoded data removed]",
      "text/plain": [
       "<Figure size 360x360 with 1 Axes>"
      ]
     },
     "metadata": {
      "needs_background": "light"
     },
     "output_type": "display_data"
    },
    {
     "data": {
      "image/png": "[encoded data removed]",
      "text/plain": [
       "<Figure size 360x360 with 1 Axes>"
      ]
     },
     "metadata": {
      "needs_background": "light"
     },
     "output_type": "display_data"
    },
    {
     "data": {
      "image/png": "[encoded data removed]",
      "text/plain": [
       "<Figure size 360x360 with 1 Axes>"
      ]
     },
     "metadata": {
      "needs_background": "light"
     },
     "output_type": "display_data"
    },
    {
     "data": {
      "image/png": "[encoded data removed]",
      "text/plain": [
       "<Figure size 360x360 with 1 Axes>"
      ]
     },
     "metadata": {
      "needs_background": "light"
     },
     "output_type": "display_data"
    },
    {
     "data": {
      "image/png": "[encoded data removed]",
      "text/plain": [
       "<Figure size 360x360 with 1 Axes>"
      ]
     },
     "metadata": {
      "needs_background": "light"
     },
     "output_type": "display_data"
    },
    {
     "data": {
      "image/png": "[encoded data removed]",
      "text/plain": [
       "<Figure size 360x360 with 1 Axes>"
      ]
     },
     "metadata": {
      "needs_background": "light"
     },
     "output_type": "display_data"
    }
   ],
   "source": [
    "for column in ['month_to_end_contract', 'age', 'avg_additional_charges_total', 'lifetime', 'avg_class_frequency_total', 'avg_class_frequency_current_month']:\n",
    "    plt.figure(figsize=(5, 5))\n",
    "    sns.boxplot(x = 'cluster', y = data[column], data = data)\n",
    "    plt.show()"
   ]
  },
  {
   "cell_type": "markdown",
   "metadata": {},
   "source": [
    "According to quantitative features, the following features of clusters can be distinguished:\n",
    "\n",
    "1. Subscription duration (contract_period) - subscriptions are sold for periods of 1,6,12 months. Cluster \"0\" consists mainly of annual subscriptions.\n",
    "2. Age (age) - cluster \"3\" mainly consists of those who are 30 years old or younger, and those who are over 30 years old are included in cluster \"0\".\n",
    "3. Revenue from other goods and services (avg_additional_charges_total) - cluster \"3\" spends less (because it's younger), cluster \"0\" spends more.\n",
    "4. The number of months until the end of the subscription (month_to_end_contract) - cluster \"0\" is allocated - there are 6 months or more left.\n",
    "5. The number of months since the beginning of the first visit (lifetime) - clusters 1 and 3 went less than 5 months, cluster \"0\" from 4 to 10 months.\n",
    "6. Frequency of visits (avg_class_frequency_total) - Cluster \"3\" - those who go on average 1 time, cluster \"0\" - those who go 2-3 times, cluster \"4\" go 2 or more times.\n",
    "7. Frequency of visits in the last month (avg_class_frequency_current_month) - similar to (avg_class_frequency_total)."
   ]
  },
  {
   "cell_type": "markdown",
   "metadata": {},
   "source": [
    "### Shares of churn in clusters"
   ]
  },
  {
   "cell_type": "code",
   "execution_count": 34,
   "metadata": {},
   "outputs": [
    {
     "data": {
      "text/plain": [
       "cluster\n",
       "0    0.026390\n",
       "1    0.097078\n",
       "2    0.211122\n",
       "3    0.611687\n",
       "4    0.053723\n",
       "Name: churn, dtype: float64"
      ]
     },
     "execution_count": 34,
     "metadata": {},
     "output_type": "execute_result"
    }
   ],
   "source": [
    "outflow = data.query('churn==1').groupby('cluster')['churn'].count() / data.query('churn==1')['churn'].count()\n",
    "outflow  "
   ]
  },
  {
   "cell_type": "markdown",
   "metadata": {},
   "source": [
    "The maximum share of outflow in cluster \"3\" is 61.1%. The second place in terms of the share of outflow is cluster \"2\" - 21.1%, the third one is cluster \"1\" - 9.7%. The minimum outflow in the cluster is \"4\" and \"0\"."
   ]
  },
  {
   "cell_type": "markdown",
   "metadata": {},
   "source": [
    "## Conclusions and recommendations for working with clients\n",
    "The purpose of the study was to predict the outflow of clients, make their clustering and give recommendations on how to change the work with clients.\n",
    "\n",
    "The data was processed, studied, 2 forecasting models were compiled, customer clusters were identified and their characteristic features were determined.\n",
    "\n",
    "In this way:\n",
    "1. When building models for predicting the outflow of customers, the models \"Logistic regression\" and \"Random forest\" were used. Both models showed high results - Accuracy (more than 0.91), precision and recall (in the range of 0.813 - 0.854), but in all respects \"Logistic regression\" gives a slightly better result.\n",
    "\n",
    "2. As a result of the analysis, it was decided to divide the clients into 5 clusters, the characteristics of the clusters are as follows:\n",
    "\n",
    "Cluster 0 - high quality of customers, churn is only 2.6% (of the total churn):\n",
    "These are clients who bought a subscription for a year under the Promotion or the Partner Program, and only passed 1-2 months. The frequency of visits is 2-3 times a week. These are clients who are over 30 years old, many spend more than 200 on additional services, often attend group classes.\n",
    "\n",
    "Cluster 1 - average quality of customers, the churn share is about 9.7% (of the total churn) - a slightly strange cluster, these are those who did not leave a phone number in the questionnaire, are not a partner or participant in a promotion. But rather not inclined to outflow.\n",
    "\n",
    "Cluster 2 - low quality, the share of the outflow is rather high - 21.1% (of the total outflow). Clients do not live close to the gym, they came without a promotion and an affiliate program, they rarely attend group classes.\n",
    "\n",
    "Cluster 3 - low quality, the largest churn 61.2% (of the total churn). These are clients who go once a week for 2 months or less, mostly those who are over 30 years old and younger, spend a little on additional services, did not come through a promotion or affiliate program, rarely attend group classes.\n",
    "\n",
    "Cluster 4 - high quality of customers - low churn 5.4% (of the total churn). These are fitness enthusiasts and sportsmen who go 3 times a week or more."
   ]
  },
  {
   "cell_type": "markdown",
   "metadata": {},
   "source": [
    "Recommendations:\n",
    "\n",
    "Focus on clients such as cluster 1,2,3.\n",
    "\n",
    "Options:\n",
    "1. Offer better prices for subscriptions for 12 months (those who left more money are less likely to drop out).\n",
    "2. Offer affiliate programs and promotions more actively (participants in such programs and promotions are more likely to remain loyal).\n",
    "3. Offer participation in group classes (those who attend group classes are more likely to remain loyal).\n",
    "4. Increase the frequency of visiting the halls (perhaps additional services, flexible schedule, etc.)."
   ]
  }
 ],
 "metadata": {
  "ExecuteTimeLog": [
   {
    "duration": 1481,
    "start_time": "2022-07-27T05:42:30.791Z"
   },
   {
    "duration": 3,
    "start_time": "2022-07-27T05:42:35.391Z"
   },
   {
    "duration": 134,
    "start_time": "2022-07-27T05:43:09.328Z"
   },
   {
    "duration": 29,
    "start_time": "2022-07-27T05:43:25.205Z"
   },
   {
    "duration": 13,
    "start_time": "2022-07-27T05:43:40.488Z"
   },
   {
    "duration": 5,
    "start_time": "2022-07-27T05:44:07.887Z"
   },
   {
    "duration": 95,
    "start_time": "2022-07-27T05:44:40.556Z"
   },
   {
    "duration": 5,
    "start_time": "2022-07-27T05:44:44.936Z"
   },
   {
    "duration": 8,
    "start_time": "2022-07-27T05:44:51.008Z"
   },
   {
    "duration": 7,
    "start_time": "2022-07-27T05:47:52.412Z"
   },
   {
    "duration": 12,
    "start_time": "2022-07-27T05:48:40.964Z"
   },
   {
    "duration": 28,
    "start_time": "2022-07-27T05:49:25.585Z"
   },
   {
    "duration": 15,
    "start_time": "2022-07-27T05:52:19.936Z"
   },
   {
    "duration": 607,
    "start_time": "2022-07-27T06:03:08.840Z"
   },
   {
    "duration": 10,
    "start_time": "2022-07-27T06:03:58.956Z"
   },
   {
    "duration": 3,
    "start_time": "2022-07-27T06:04:06.172Z"
   },
   {
    "duration": 578,
    "start_time": "2022-07-27T06:04:08.794Z"
   },
   {
    "duration": 623,
    "start_time": "2022-07-27T06:04:23.088Z"
   },
   {
    "duration": 767,
    "start_time": "2022-07-27T06:04:34.071Z"
   },
   {
    "duration": 6,
    "start_time": "2022-07-27T06:05:35.111Z"
   },
   {
    "duration": 1382,
    "start_time": "2022-07-27T06:05:46.305Z"
   },
   {
    "duration": 31,
    "start_time": "2022-07-27T06:05:47.689Z"
   },
   {
    "duration": 16,
    "start_time": "2022-07-27T06:05:47.722Z"
   },
   {
    "duration": 39,
    "start_time": "2022-07-27T06:05:47.739Z"
   },
   {
    "duration": 36,
    "start_time": "2022-07-27T06:05:47.780Z"
   },
   {
    "duration": 29,
    "start_time": "2022-07-27T06:05:47.818Z"
   },
   {
    "duration": 41,
    "start_time": "2022-07-27T06:05:47.849Z"
   },
   {
    "duration": 18,
    "start_time": "2022-07-27T06:05:47.892Z"
   },
   {
    "duration": 42,
    "start_time": "2022-07-27T06:05:47.912Z"
   },
   {
    "duration": 40,
    "start_time": "2022-07-27T06:05:47.956Z"
   },
   {
    "duration": 23,
    "start_time": "2022-07-27T06:05:47.999Z"
   },
   {
    "duration": 4,
    "start_time": "2022-07-27T06:05:48.023Z"
   },
   {
    "duration": 890,
    "start_time": "2022-07-27T06:05:48.028Z"
   },
   {
    "duration": 849,
    "start_time": "2022-07-27T06:06:22.817Z"
   },
   {
    "duration": 764,
    "start_time": "2022-07-27T06:08:46.462Z"
   },
   {
    "duration": 120,
    "start_time": "2022-07-27T06:09:06.942Z"
   },
   {
    "duration": 760,
    "start_time": "2022-07-27T06:09:14.984Z"
   },
   {
    "duration": 885,
    "start_time": "2022-07-27T06:09:37.868Z"
   },
   {
    "duration": 792,
    "start_time": "2022-07-27T06:09:52.909Z"
   },
   {
    "duration": 817,
    "start_time": "2022-07-27T06:19:38.100Z"
   },
   {
    "duration": 650,
    "start_time": "2022-07-27T06:19:53.280Z"
   },
   {
    "duration": 1393,
    "start_time": "2022-07-27T06:20:07.671Z"
   },
   {
    "duration": 1310,
    "start_time": "2022-07-27T06:28:48.818Z"
   },
   {
    "duration": 5,
    "start_time": "2022-07-27T06:44:59.212Z"
   },
   {
    "duration": 19,
    "start_time": "2022-07-27T06:45:19.845Z"
   },
   {
    "duration": 1227,
    "start_time": "2022-07-27T06:47:54.849Z"
   },
   {
    "duration": 31,
    "start_time": "2022-07-27T06:51:40.797Z"
   },
   {
    "duration": 508,
    "start_time": "2022-07-27T06:52:51.178Z"
   },
   {
    "duration": 107985,
    "start_time": "2022-07-27T06:55:17.099Z"
   },
   {
    "duration": 1012,
    "start_time": "2022-07-27T07:01:13.624Z"
   },
   {
    "duration": 19,
    "start_time": "2022-07-27T07:01:31.332Z"
   },
   {
    "duration": 6,
    "start_time": "2022-07-27T07:01:50.291Z"
   },
   {
    "duration": 23,
    "start_time": "2022-07-27T07:01:55.815Z"
   },
   {
    "duration": 6,
    "start_time": "2022-07-27T07:02:01.039Z"
   },
   {
    "duration": 17,
    "start_time": "2022-07-27T07:03:39.640Z"
   },
   {
    "duration": 28,
    "start_time": "2022-07-27T07:08:29.840Z"
   },
   {
    "duration": 11,
    "start_time": "2022-07-27T07:12:44.451Z"
   },
   {
    "duration": 11,
    "start_time": "2022-07-27T07:12:49.889Z"
   },
   {
    "duration": 6614,
    "start_time": "2022-07-27T07:12:56.402Z"
   },
   {
    "duration": 6120,
    "start_time": "2022-07-27T07:13:11.341Z"
   },
   {
    "duration": 6734,
    "start_time": "2022-07-27T07:13:32.114Z"
   },
   {
    "duration": 6195,
    "start_time": "2022-07-27T07:13:57.920Z"
   },
   {
    "duration": 6466,
    "start_time": "2022-07-27T07:14:07.630Z"
   },
   {
    "duration": 4621,
    "start_time": "2022-07-27T07:21:28.548Z"
   },
   {
    "duration": 14,
    "start_time": "2022-07-27T07:29:08.978Z"
   },
   {
    "duration": 11,
    "start_time": "2022-07-27T07:29:14.879Z"
   },
   {
    "duration": 24,
    "start_time": "2022-07-27T07:29:35.090Z"
   },
   {
    "duration": 150,
    "start_time": "2022-07-27T07:29:45.440Z"
   },
   {
    "duration": 17,
    "start_time": "2022-07-27T07:30:02.438Z"
   },
   {
    "duration": 24,
    "start_time": "2022-07-27T07:30:09.172Z"
   },
   {
    "duration": 36,
    "start_time": "2022-07-27T07:31:43.497Z"
   },
   {
    "duration": 1787,
    "start_time": "2022-07-27T10:04:23.116Z"
   },
   {
    "duration": 69,
    "start_time": "2022-07-27T10:04:24.905Z"
   },
   {
    "duration": 18,
    "start_time": "2022-07-27T10:04:24.976Z"
   },
   {
    "duration": 11,
    "start_time": "2022-07-27T10:04:24.996Z"
   },
   {
    "duration": 12,
    "start_time": "2022-07-27T10:04:25.008Z"
   },
   {
    "duration": 9,
    "start_time": "2022-07-27T10:04:25.022Z"
   },
   {
    "duration": 10,
    "start_time": "2022-07-27T10:04:25.032Z"
   },
   {
    "duration": 8,
    "start_time": "2022-07-27T10:04:25.043Z"
   },
   {
    "duration": 15,
    "start_time": "2022-07-27T10:04:25.052Z"
   },
   {
    "duration": 47,
    "start_time": "2022-07-27T10:04:25.071Z"
   },
   {
    "duration": 15,
    "start_time": "2022-07-27T10:04:25.120Z"
   },
   {
    "duration": 16,
    "start_time": "2022-07-27T10:04:25.137Z"
   },
   {
    "duration": 968,
    "start_time": "2022-07-27T10:04:25.155Z"
   },
   {
    "duration": 0,
    "start_time": "2022-07-27T10:04:26.125Z"
   },
   {
    "duration": 0,
    "start_time": "2022-07-27T10:04:26.127Z"
   },
   {
    "duration": 0,
    "start_time": "2022-07-27T10:04:26.127Z"
   },
   {
    "duration": 0,
    "start_time": "2022-07-27T10:04:26.128Z"
   },
   {
    "duration": 0,
    "start_time": "2022-07-27T10:04:26.129Z"
   },
   {
    "duration": 0,
    "start_time": "2022-07-27T10:04:26.130Z"
   },
   {
    "duration": 0,
    "start_time": "2022-07-27T10:04:26.131Z"
   },
   {
    "duration": 0,
    "start_time": "2022-07-27T10:04:26.132Z"
   },
   {
    "duration": 0,
    "start_time": "2022-07-27T10:04:26.133Z"
   },
   {
    "duration": 0,
    "start_time": "2022-07-27T10:04:26.134Z"
   },
   {
    "duration": 0,
    "start_time": "2022-07-27T10:04:26.136Z"
   },
   {
    "duration": 0,
    "start_time": "2022-07-27T10:04:26.136Z"
   },
   {
    "duration": 0,
    "start_time": "2022-07-27T10:04:26.137Z"
   },
   {
    "duration": 0,
    "start_time": "2022-07-27T10:04:26.138Z"
   },
   {
    "duration": 0,
    "start_time": "2022-07-27T10:04:26.139Z"
   },
   {
    "duration": 3,
    "start_time": "2022-07-27T10:04:43.000Z"
   },
   {
    "duration": 11,
    "start_time": "2022-07-27T10:04:51.943Z"
   },
   {
    "duration": 1443,
    "start_time": "2022-07-27T10:05:05.344Z"
   },
   {
    "duration": 9,
    "start_time": "2022-07-27T10:05:17.639Z"
   },
   {
    "duration": 4,
    "start_time": "2022-07-27T10:05:39.304Z"
   },
   {
    "duration": 4,
    "start_time": "2022-07-27T10:05:42.744Z"
   },
   {
    "duration": 117,
    "start_time": "2022-07-27T10:06:53.071Z"
   },
   {
    "duration": 3,
    "start_time": "2022-07-27T10:07:00.694Z"
   },
   {
    "duration": 1635,
    "start_time": "2022-07-27T10:07:05.625Z"
   },
   {
    "duration": 33,
    "start_time": "2022-07-27T10:07:07.262Z"
   },
   {
    "duration": 18,
    "start_time": "2022-07-27T10:07:07.297Z"
   },
   {
    "duration": 11,
    "start_time": "2022-07-27T10:07:07.317Z"
   },
   {
    "duration": 5,
    "start_time": "2022-07-27T10:07:07.329Z"
   },
   {
    "duration": 20,
    "start_time": "2022-07-27T10:07:07.336Z"
   },
   {
    "duration": 20,
    "start_time": "2022-07-27T10:07:07.357Z"
   },
   {
    "duration": 8,
    "start_time": "2022-07-27T10:07:07.378Z"
   },
   {
    "duration": 23,
    "start_time": "2022-07-27T10:07:07.387Z"
   },
   {
    "duration": 25,
    "start_time": "2022-07-27T10:07:07.413Z"
   },
   {
    "duration": 15,
    "start_time": "2022-07-27T10:07:07.440Z"
   },
   {
    "duration": 4,
    "start_time": "2022-07-27T10:07:07.456Z"
   },
   {
    "duration": 6,
    "start_time": "2022-07-27T10:07:07.461Z"
   },
   {
    "duration": 1523,
    "start_time": "2022-07-27T10:07:07.468Z"
   },
   {
    "duration": 1406,
    "start_time": "2022-07-27T10:07:08.992Z"
   },
   {
    "duration": 4,
    "start_time": "2022-07-27T10:07:10.399Z"
   },
   {
    "duration": 39,
    "start_time": "2022-07-27T10:07:10.405Z"
   },
   {
    "duration": 622,
    "start_time": "2022-07-27T10:07:10.446Z"
   },
   {
    "duration": 15,
    "start_time": "2022-07-27T10:07:11.070Z"
   },
   {
    "duration": 518,
    "start_time": "2022-07-27T10:07:11.087Z"
   },
   {
    "duration": 100164,
    "start_time": "2022-07-27T10:07:11.606Z"
   },
   {
    "duration": 1029,
    "start_time": "2022-07-27T10:08:51.771Z"
   },
   {
    "duration": 109,
    "start_time": "2022-07-27T10:08:52.801Z"
   },
   {
    "duration": 6,
    "start_time": "2022-07-27T10:08:52.912Z"
   },
   {
    "duration": 18,
    "start_time": "2022-07-27T10:08:52.919Z"
   },
   {
    "duration": 4561,
    "start_time": "2022-07-27T10:08:52.939Z"
   },
   {
    "duration": 6041,
    "start_time": "2022-07-27T10:08:57.502Z"
   },
   {
    "duration": 12,
    "start_time": "2022-07-27T10:09:03.546Z"
   },
   {
    "duration": 131,
    "start_time": "2022-07-27T10:18:15.718Z"
   },
   {
    "duration": 82,
    "start_time": "2022-07-27T10:18:27.927Z"
   },
   {
    "duration": 33,
    "start_time": "2022-07-27T10:18:37.680Z"
   },
   {
    "duration": 6267,
    "start_time": "2022-07-27T10:19:59.565Z"
   },
   {
    "duration": 289,
    "start_time": "2022-07-27T10:20:28.447Z"
   },
   {
    "duration": 6604,
    "start_time": "2022-07-27T10:20:33.038Z"
   },
   {
    "duration": 1651,
    "start_time": "2022-07-27T10:28:37.107Z"
   },
   {
    "duration": 33,
    "start_time": "2022-07-27T10:28:38.760Z"
   },
   {
    "duration": 19,
    "start_time": "2022-07-27T10:28:38.795Z"
   },
   {
    "duration": 17,
    "start_time": "2022-07-27T10:28:38.816Z"
   },
   {
    "duration": 5,
    "start_time": "2022-07-27T10:28:38.834Z"
   },
   {
    "duration": 14,
    "start_time": "2022-07-27T10:28:38.841Z"
   },
   {
    "duration": 11,
    "start_time": "2022-07-27T10:28:38.857Z"
   },
   {
    "duration": 18,
    "start_time": "2022-07-27T10:28:38.870Z"
   },
   {
    "duration": 17,
    "start_time": "2022-07-27T10:28:38.890Z"
   },
   {
    "duration": 25,
    "start_time": "2022-07-27T10:28:38.910Z"
   },
   {
    "duration": 15,
    "start_time": "2022-07-27T10:28:38.937Z"
   },
   {
    "duration": 4,
    "start_time": "2022-07-27T10:28:38.953Z"
   },
   {
    "duration": 13,
    "start_time": "2022-07-27T10:28:38.958Z"
   },
   {
    "duration": 1463,
    "start_time": "2022-07-27T10:28:38.973Z"
   },
   {
    "duration": 1354,
    "start_time": "2022-07-27T10:28:40.438Z"
   },
   {
    "duration": 5,
    "start_time": "2022-07-27T10:28:41.794Z"
   },
   {
    "duration": 34,
    "start_time": "2022-07-27T10:28:41.801Z"
   },
   {
    "duration": 637,
    "start_time": "2022-07-27T10:28:41.837Z"
   },
   {
    "duration": 25,
    "start_time": "2022-07-27T10:28:42.476Z"
   },
   {
    "duration": 512,
    "start_time": "2022-07-27T10:28:42.503Z"
   },
   {
    "duration": 1582,
    "start_time": "2022-07-27T11:19:05.329Z"
   },
   {
    "duration": 68,
    "start_time": "2022-07-27T11:19:06.913Z"
   },
   {
    "duration": 19,
    "start_time": "2022-07-27T11:19:06.983Z"
   },
   {
    "duration": 12,
    "start_time": "2022-07-27T11:19:07.003Z"
   },
   {
    "duration": 6,
    "start_time": "2022-07-27T11:19:07.017Z"
   },
   {
    "duration": 8,
    "start_time": "2022-07-27T11:19:07.024Z"
   },
   {
    "duration": 9,
    "start_time": "2022-07-27T11:19:07.033Z"
   },
   {
    "duration": 6,
    "start_time": "2022-07-27T11:19:07.044Z"
   },
   {
    "duration": 24,
    "start_time": "2022-07-27T11:19:07.051Z"
   },
   {
    "duration": 32,
    "start_time": "2022-07-27T11:19:07.099Z"
   },
   {
    "duration": 18,
    "start_time": "2022-07-27T11:19:07.133Z"
   },
   {
    "duration": 4,
    "start_time": "2022-07-27T11:19:07.153Z"
   },
   {
    "duration": 1079,
    "start_time": "2022-07-27T11:19:07.158Z"
   },
   {
    "duration": 0,
    "start_time": "2022-07-27T11:19:08.239Z"
   },
   {
    "duration": 0,
    "start_time": "2022-07-27T11:19:08.241Z"
   },
   {
    "duration": 0,
    "start_time": "2022-07-27T11:19:08.242Z"
   },
   {
    "duration": 0,
    "start_time": "2022-07-27T11:19:08.242Z"
   },
   {
    "duration": 0,
    "start_time": "2022-07-27T11:19:08.244Z"
   },
   {
    "duration": 0,
    "start_time": "2022-07-27T11:19:08.245Z"
   },
   {
    "duration": 0,
    "start_time": "2022-07-27T11:19:08.246Z"
   },
   {
    "duration": 0,
    "start_time": "2022-07-27T11:19:08.247Z"
   },
   {
    "duration": 0,
    "start_time": "2022-07-27T11:19:08.248Z"
   },
   {
    "duration": 0,
    "start_time": "2022-07-27T11:19:08.249Z"
   },
   {
    "duration": 0,
    "start_time": "2022-07-27T11:19:08.250Z"
   },
   {
    "duration": 0,
    "start_time": "2022-07-27T11:19:08.251Z"
   },
   {
    "duration": 0,
    "start_time": "2022-07-27T11:19:08.252Z"
   },
   {
    "duration": 0,
    "start_time": "2022-07-27T11:19:08.253Z"
   },
   {
    "duration": 0,
    "start_time": "2022-07-27T11:19:08.254Z"
   },
   {
    "duration": 5,
    "start_time": "2022-07-27T11:20:19.632Z"
   },
   {
    "duration": 15,
    "start_time": "2022-07-27T11:20:27.610Z"
   },
   {
    "duration": 1376,
    "start_time": "2022-07-27T11:20:37.149Z"
   },
   {
    "duration": 32,
    "start_time": "2022-07-27T11:20:38.527Z"
   },
   {
    "duration": 17,
    "start_time": "2022-07-27T11:20:38.561Z"
   },
   {
    "duration": 11,
    "start_time": "2022-07-27T11:20:38.580Z"
   },
   {
    "duration": 5,
    "start_time": "2022-07-27T11:20:38.592Z"
   },
   {
    "duration": 12,
    "start_time": "2022-07-27T11:20:38.598Z"
   },
   {
    "duration": 9,
    "start_time": "2022-07-27T11:20:38.612Z"
   },
   {
    "duration": 6,
    "start_time": "2022-07-27T11:20:38.623Z"
   },
   {
    "duration": 15,
    "start_time": "2022-07-27T11:20:38.631Z"
   },
   {
    "duration": 51,
    "start_time": "2022-07-27T11:20:38.649Z"
   },
   {
    "duration": 17,
    "start_time": "2022-07-27T11:20:38.702Z"
   },
   {
    "duration": 4,
    "start_time": "2022-07-27T11:20:38.721Z"
   },
   {
    "duration": 997,
    "start_time": "2022-07-27T11:20:38.727Z"
   },
   {
    "duration": 0,
    "start_time": "2022-07-27T11:20:39.726Z"
   },
   {
    "duration": 0,
    "start_time": "2022-07-27T11:20:39.727Z"
   },
   {
    "duration": 0,
    "start_time": "2022-07-27T11:20:39.729Z"
   },
   {
    "duration": 0,
    "start_time": "2022-07-27T11:20:39.731Z"
   },
   {
    "duration": 0,
    "start_time": "2022-07-27T11:20:39.732Z"
   },
   {
    "duration": 0,
    "start_time": "2022-07-27T11:20:39.734Z"
   },
   {
    "duration": 0,
    "start_time": "2022-07-27T11:20:39.735Z"
   },
   {
    "duration": 0,
    "start_time": "2022-07-27T11:20:39.736Z"
   },
   {
    "duration": 0,
    "start_time": "2022-07-27T11:20:39.738Z"
   },
   {
    "duration": 0,
    "start_time": "2022-07-27T11:20:39.739Z"
   },
   {
    "duration": 0,
    "start_time": "2022-07-27T11:20:39.741Z"
   },
   {
    "duration": 0,
    "start_time": "2022-07-27T11:20:39.741Z"
   },
   {
    "duration": 0,
    "start_time": "2022-07-27T11:20:39.743Z"
   },
   {
    "duration": 0,
    "start_time": "2022-07-27T11:20:39.744Z"
   },
   {
    "duration": 0,
    "start_time": "2022-07-27T11:20:39.745Z"
   },
   {
    "duration": 697,
    "start_time": "2022-07-27T11:20:59.116Z"
   },
   {
    "duration": 623,
    "start_time": "2022-07-27T11:21:19.689Z"
   },
   {
    "duration": 862,
    "start_time": "2022-07-27T11:21:36.785Z"
   },
   {
    "duration": 936,
    "start_time": "2022-07-27T11:23:26.385Z"
   },
   {
    "duration": 871,
    "start_time": "2022-07-27T11:23:37.942Z"
   },
   {
    "duration": 1011,
    "start_time": "2022-07-27T11:24:23.888Z"
   },
   {
    "duration": 17,
    "start_time": "2022-07-27T11:27:16.745Z"
   },
   {
    "duration": 1410,
    "start_time": "2022-07-27T11:28:39.256Z"
   },
   {
    "duration": 32,
    "start_time": "2022-07-27T11:28:40.668Z"
   },
   {
    "duration": 20,
    "start_time": "2022-07-27T11:28:40.702Z"
   },
   {
    "duration": 11,
    "start_time": "2022-07-27T11:28:40.723Z"
   },
   {
    "duration": 11,
    "start_time": "2022-07-27T11:28:40.737Z"
   },
   {
    "duration": 13,
    "start_time": "2022-07-27T11:28:40.750Z"
   },
   {
    "duration": 15,
    "start_time": "2022-07-27T11:28:40.765Z"
   },
   {
    "duration": 21,
    "start_time": "2022-07-27T11:28:40.781Z"
   },
   {
    "duration": 14,
    "start_time": "2022-07-27T11:28:40.803Z"
   },
   {
    "duration": 26,
    "start_time": "2022-07-27T11:28:40.818Z"
   },
   {
    "duration": 15,
    "start_time": "2022-07-27T11:28:40.846Z"
   },
   {
    "duration": 4,
    "start_time": "2022-07-27T11:28:40.862Z"
   },
   {
    "duration": 1071,
    "start_time": "2022-07-27T11:28:40.867Z"
   },
   {
    "duration": 0,
    "start_time": "2022-07-27T11:28:41.939Z"
   },
   {
    "duration": 0,
    "start_time": "2022-07-27T11:28:41.941Z"
   },
   {
    "duration": 0,
    "start_time": "2022-07-27T11:28:41.941Z"
   },
   {
    "duration": 0,
    "start_time": "2022-07-27T11:28:41.942Z"
   },
   {
    "duration": 0,
    "start_time": "2022-07-27T11:28:41.943Z"
   },
   {
    "duration": 0,
    "start_time": "2022-07-27T11:28:41.944Z"
   },
   {
    "duration": 0,
    "start_time": "2022-07-27T11:28:41.945Z"
   },
   {
    "duration": 0,
    "start_time": "2022-07-27T11:28:41.946Z"
   },
   {
    "duration": 0,
    "start_time": "2022-07-27T11:28:41.946Z"
   },
   {
    "duration": 0,
    "start_time": "2022-07-27T11:28:41.947Z"
   },
   {
    "duration": 0,
    "start_time": "2022-07-27T11:28:41.948Z"
   },
   {
    "duration": 0,
    "start_time": "2022-07-27T11:28:41.948Z"
   },
   {
    "duration": 0,
    "start_time": "2022-07-27T11:28:41.949Z"
   },
   {
    "duration": 0,
    "start_time": "2022-07-27T11:28:41.950Z"
   },
   {
    "duration": 0,
    "start_time": "2022-07-27T11:28:41.951Z"
   },
   {
    "duration": 1521,
    "start_time": "2022-07-27T11:29:20.356Z"
   },
   {
    "duration": 4,
    "start_time": "2022-07-27T11:29:32.685Z"
   },
   {
    "duration": 34,
    "start_time": "2022-07-27T11:29:35.295Z"
   },
   {
    "duration": 701,
    "start_time": "2022-07-27T11:29:38.671Z"
   },
   {
    "duration": 20,
    "start_time": "2022-07-27T11:29:44.607Z"
   },
   {
    "duration": 462,
    "start_time": "2022-07-27T11:29:46.965Z"
   },
   {
    "duration": 102511,
    "start_time": "2022-07-27T11:29:50.150Z"
   },
   {
    "duration": 1142,
    "start_time": "2022-07-27T11:31:32.663Z"
   },
   {
    "duration": 35,
    "start_time": "2022-07-27T11:31:38.749Z"
   },
   {
    "duration": 7,
    "start_time": "2022-07-27T11:31:44.033Z"
   },
   {
    "duration": 15,
    "start_time": "2022-07-27T11:31:51.299Z"
   },
   {
    "duration": 4530,
    "start_time": "2022-07-27T11:32:00.304Z"
   },
   {
    "duration": 22,
    "start_time": "2022-07-27T11:34:57.850Z"
   },
   {
    "duration": 20,
    "start_time": "2022-07-27T11:35:17.413Z"
   },
   {
    "duration": 1354,
    "start_time": "2022-07-27T11:35:32.570Z"
   },
   {
    "duration": 20,
    "start_time": "2022-07-27T11:36:04.989Z"
   },
   {
    "duration": 14,
    "start_time": "2022-07-27T11:36:26.887Z"
   },
   {
    "duration": 4,
    "start_time": "2022-07-27T11:37:21.636Z"
   },
   {
    "duration": 12,
    "start_time": "2022-07-27T11:37:39.556Z"
   },
   {
    "duration": 21,
    "start_time": "2022-07-27T11:37:45.074Z"
   },
   {
    "duration": 4978,
    "start_time": "2022-07-27T11:38:43.437Z"
   },
   {
    "duration": 15,
    "start_time": "2022-07-27T11:39:31.188Z"
   },
   {
    "duration": 15,
    "start_time": "2022-07-27T11:40:41.699Z"
   },
   {
    "duration": 18,
    "start_time": "2022-07-27T11:40:56.333Z"
   },
   {
    "duration": 18,
    "start_time": "2022-07-27T11:41:06.055Z"
   },
   {
    "duration": 17,
    "start_time": "2022-07-27T11:41:18.642Z"
   },
   {
    "duration": 17,
    "start_time": "2022-07-27T11:41:25.728Z"
   },
   {
    "duration": 9,
    "start_time": "2022-07-27T11:43:24.099Z"
   },
   {
    "duration": 4,
    "start_time": "2022-07-27T11:43:38.763Z"
   },
   {
    "duration": 1389,
    "start_time": "2022-07-27T11:46:13.284Z"
   },
   {
    "duration": 1243,
    "start_time": "2022-07-27T11:55:25.614Z"
   },
   {
    "duration": 6851,
    "start_time": "2022-07-27T12:01:12.388Z"
   },
   {
    "duration": 13,
    "start_time": "2022-07-27T12:03:05.684Z"
   },
   {
    "duration": 17,
    "start_time": "2022-07-27T12:03:16.174Z"
   },
   {
    "duration": 19,
    "start_time": "2022-07-27T12:03:31.528Z"
   },
   {
    "duration": 21,
    "start_time": "2022-07-27T12:04:32.401Z"
   },
   {
    "duration": 1252,
    "start_time": "2022-07-27T12:06:16.041Z"
   },
   {
    "duration": 22,
    "start_time": "2022-07-27T12:06:27.882Z"
   },
   {
    "duration": 22,
    "start_time": "2022-07-27T12:06:53.792Z"
   },
   {
    "duration": 1519,
    "start_time": "2022-07-27T12:08:08.190Z"
   },
   {
    "duration": 7,
    "start_time": "2022-07-27T12:08:09.711Z"
   },
   {
    "duration": 43,
    "start_time": "2022-07-27T12:08:09.719Z"
   },
   {
    "duration": 17,
    "start_time": "2022-07-27T12:08:09.764Z"
   },
   {
    "duration": 11,
    "start_time": "2022-07-27T12:08:09.783Z"
   },
   {
    "duration": 16,
    "start_time": "2022-07-27T12:08:09.796Z"
   },
   {
    "duration": 12,
    "start_time": "2022-07-27T12:08:09.814Z"
   },
   {
    "duration": 11,
    "start_time": "2022-07-27T12:08:09.828Z"
   },
   {
    "duration": 12,
    "start_time": "2022-07-27T12:08:09.841Z"
   },
   {
    "duration": 17,
    "start_time": "2022-07-27T12:08:09.856Z"
   },
   {
    "duration": 43,
    "start_time": "2022-07-27T12:08:09.875Z"
   },
   {
    "duration": 19,
    "start_time": "2022-07-27T12:08:09.919Z"
   },
   {
    "duration": 6,
    "start_time": "2022-07-27T12:08:09.940Z"
   },
   {
    "duration": 1185,
    "start_time": "2022-07-27T12:08:09.947Z"
   },
   {
    "duration": 0,
    "start_time": "2022-07-27T12:08:11.134Z"
   },
   {
    "duration": 0,
    "start_time": "2022-07-27T12:08:11.135Z"
   },
   {
    "duration": 0,
    "start_time": "2022-07-27T12:08:11.137Z"
   },
   {
    "duration": 0,
    "start_time": "2022-07-27T12:08:11.139Z"
   },
   {
    "duration": 0,
    "start_time": "2022-07-27T12:08:11.141Z"
   },
   {
    "duration": 0,
    "start_time": "2022-07-27T12:08:11.142Z"
   },
   {
    "duration": 0,
    "start_time": "2022-07-27T12:08:11.143Z"
   },
   {
    "duration": 0,
    "start_time": "2022-07-27T12:08:11.144Z"
   },
   {
    "duration": 0,
    "start_time": "2022-07-27T12:08:11.145Z"
   },
   {
    "duration": 0,
    "start_time": "2022-07-27T12:08:11.146Z"
   },
   {
    "duration": 0,
    "start_time": "2022-07-27T12:08:11.147Z"
   },
   {
    "duration": 0,
    "start_time": "2022-07-27T12:08:11.148Z"
   },
   {
    "duration": 0,
    "start_time": "2022-07-27T12:08:11.149Z"
   },
   {
    "duration": 0,
    "start_time": "2022-07-27T12:08:11.150Z"
   },
   {
    "duration": 0,
    "start_time": "2022-07-27T12:08:11.154Z"
   },
   {
    "duration": 0,
    "start_time": "2022-07-27T12:08:11.155Z"
   },
   {
    "duration": 3336,
    "start_time": "2022-07-27T12:09:15.213Z"
   },
   {
    "duration": 2806,
    "start_time": "2022-07-27T12:09:27.494Z"
   },
   {
    "duration": 1120,
    "start_time": "2022-07-27T12:09:41.621Z"
   },
   {
    "duration": 1427,
    "start_time": "2022-07-27T12:09:56.044Z"
   },
   {
    "duration": 2325,
    "start_time": "2022-07-27T12:09:57.474Z"
   },
   {
    "duration": 2271,
    "start_time": "2022-07-27T12:09:59.802Z"
   },
   {
    "duration": 6,
    "start_time": "2022-07-27T12:10:02.075Z"
   },
   {
    "duration": 44,
    "start_time": "2022-07-27T12:10:02.083Z"
   },
   {
    "duration": 17,
    "start_time": "2022-07-27T12:10:02.129Z"
   },
   {
    "duration": 11,
    "start_time": "2022-07-27T12:10:02.148Z"
   },
   {
    "duration": 21,
    "start_time": "2022-07-27T12:10:02.161Z"
   },
   {
    "duration": 11,
    "start_time": "2022-07-27T12:10:02.184Z"
   },
   {
    "duration": 9,
    "start_time": "2022-07-27T12:10:02.198Z"
   },
   {
    "duration": 9,
    "start_time": "2022-07-27T12:10:02.208Z"
   },
   {
    "duration": 17,
    "start_time": "2022-07-27T12:10:02.218Z"
   },
   {
    "duration": 24,
    "start_time": "2022-07-27T12:10:02.237Z"
   },
   {
    "duration": 45,
    "start_time": "2022-07-27T12:10:02.263Z"
   },
   {
    "duration": 5,
    "start_time": "2022-07-27T12:10:02.310Z"
   },
   {
    "duration": 1161,
    "start_time": "2022-07-27T12:10:02.317Z"
   },
   {
    "duration": 0,
    "start_time": "2022-07-27T12:10:03.481Z"
   },
   {
    "duration": 0,
    "start_time": "2022-07-27T12:10:03.482Z"
   },
   {
    "duration": 0,
    "start_time": "2022-07-27T12:10:03.484Z"
   },
   {
    "duration": 0,
    "start_time": "2022-07-27T12:10:03.485Z"
   },
   {
    "duration": 0,
    "start_time": "2022-07-27T12:10:03.486Z"
   },
   {
    "duration": 0,
    "start_time": "2022-07-27T12:10:03.487Z"
   },
   {
    "duration": 10,
    "start_time": "2022-07-27T12:10:03.487Z"
   },
   {
    "duration": 0,
    "start_time": "2022-07-27T12:10:03.499Z"
   },
   {
    "duration": 0,
    "start_time": "2022-07-27T12:10:03.500Z"
   },
   {
    "duration": 0,
    "start_time": "2022-07-27T12:10:03.501Z"
   },
   {
    "duration": 0,
    "start_time": "2022-07-27T12:10:03.503Z"
   },
   {
    "duration": 0,
    "start_time": "2022-07-27T12:10:03.504Z"
   },
   {
    "duration": 0,
    "start_time": "2022-07-27T12:10:03.505Z"
   },
   {
    "duration": 0,
    "start_time": "2022-07-27T12:10:03.506Z"
   },
   {
    "duration": 0,
    "start_time": "2022-07-27T12:10:03.507Z"
   },
   {
    "duration": 0,
    "start_time": "2022-07-27T12:10:03.508Z"
   },
   {
    "duration": 1211,
    "start_time": "2022-07-27T12:10:43.614Z"
   },
   {
    "duration": 820,
    "start_time": "2022-07-27T12:11:06.982Z"
   },
   {
    "duration": 981,
    "start_time": "2022-07-27T12:11:18.511Z"
   },
   {
    "duration": 1110,
    "start_time": "2022-07-27T12:16:07.505Z"
   },
   {
    "duration": 1249,
    "start_time": "2022-07-27T12:19:11.752Z"
   },
   {
    "duration": 1706,
    "start_time": "2022-07-27T12:21:37.635Z"
   },
   {
    "duration": 1217,
    "start_time": "2022-07-27T12:22:11.921Z"
   },
   {
    "duration": 1104,
    "start_time": "2022-07-27T12:23:45.272Z"
   },
   {
    "duration": 1435,
    "start_time": "2022-07-27T12:25:31.594Z"
   },
   {
    "duration": 6,
    "start_time": "2022-07-27T12:25:38.745Z"
   },
   {
    "duration": 31,
    "start_time": "2022-07-27T12:25:46.205Z"
   },
   {
    "duration": 1466,
    "start_time": "2022-07-27T12:25:56.140Z"
   },
   {
    "duration": 25,
    "start_time": "2022-07-27T12:26:01.884Z"
   },
   {
    "duration": 642,
    "start_time": "2022-07-27T12:26:04.931Z"
   },
   {
    "duration": 116247,
    "start_time": "2022-07-27T12:26:08.619Z"
   },
   {
    "duration": 1808,
    "start_time": "2022-07-27T12:28:52.999Z"
   },
   {
    "duration": 22,
    "start_time": "2022-07-27T12:28:55.430Z"
   },
   {
    "duration": 7,
    "start_time": "2022-07-27T12:29:00.241Z"
   },
   {
    "duration": 15,
    "start_time": "2022-07-27T12:29:04.123Z"
   },
   {
    "duration": 5946,
    "start_time": "2022-07-27T12:29:08.524Z"
   },
   {
    "duration": 28,
    "start_time": "2022-07-27T12:29:26.025Z"
   },
   {
    "duration": 1221,
    "start_time": "2022-07-27T12:35:34.229Z"
   },
   {
    "duration": 5659,
    "start_time": "2022-07-27T12:35:42.305Z"
   },
   {
    "duration": 5487,
    "start_time": "2022-07-27T12:36:18.634Z"
   },
   {
    "duration": 5,
    "start_time": "2022-07-27T12:44:29.638Z"
   },
   {
    "duration": 5,
    "start_time": "2022-07-27T12:45:11.757Z"
   },
   {
    "duration": 6,
    "start_time": "2022-07-27T12:45:33.803Z"
   },
   {
    "duration": 14,
    "start_time": "2022-07-27T12:45:58.977Z"
   },
   {
    "duration": 5,
    "start_time": "2022-07-27T12:47:34.156Z"
   },
   {
    "duration": 6,
    "start_time": "2022-07-27T12:47:36.603Z"
   },
   {
    "duration": 13,
    "start_time": "2022-07-27T12:47:39.993Z"
   },
   {
    "duration": 10,
    "start_time": "2022-07-27T12:48:01.471Z"
   },
   {
    "duration": 4,
    "start_time": "2022-07-27T12:48:07.611Z"
   },
   {
    "duration": 13,
    "start_time": "2022-07-27T12:48:12.319Z"
   },
   {
    "duration": 12,
    "start_time": "2022-07-27T12:48:23.783Z"
   },
   {
    "duration": 310,
    "start_time": "2022-07-27T12:48:30.140Z"
   },
   {
    "duration": 4,
    "start_time": "2022-07-27T12:48:57.463Z"
   },
   {
    "duration": 1239,
    "start_time": "2022-07-27T12:48:59.679Z"
   },
   {
    "duration": 4,
    "start_time": "2022-07-27T12:50:02.016Z"
   },
   {
    "duration": 1351,
    "start_time": "2022-07-27T12:50:08.061Z"
   },
   {
    "duration": 4,
    "start_time": "2022-07-27T12:50:36.303Z"
   },
   {
    "duration": 1245,
    "start_time": "2022-07-27T12:50:42.544Z"
   },
   {
    "duration": 4,
    "start_time": "2022-07-27T12:51:19.190Z"
   },
   {
    "duration": 1386,
    "start_time": "2022-07-27T12:51:22.484Z"
   },
   {
    "duration": 4,
    "start_time": "2022-07-27T12:51:32.376Z"
   },
   {
    "duration": 1324,
    "start_time": "2022-07-27T12:51:34.745Z"
   },
   {
    "duration": 10,
    "start_time": "2022-07-27T12:55:40.959Z"
   },
   {
    "duration": 623,
    "start_time": "2022-07-27T12:55:47.104Z"
   },
   {
    "duration": 151,
    "start_time": "2022-07-27T12:56:11.656Z"
   },
   {
    "duration": 149,
    "start_time": "2022-07-27T12:56:21.168Z"
   },
   {
    "duration": 6,
    "start_time": "2022-07-27T12:58:38.811Z"
   },
   {
    "duration": 14,
    "start_time": "2022-07-27T12:59:33.575Z"
   },
   {
    "duration": 4,
    "start_time": "2022-07-27T12:59:54.923Z"
   },
   {
    "duration": 5,
    "start_time": "2022-07-27T13:00:04.056Z"
   },
   {
    "duration": 6,
    "start_time": "2022-07-27T13:02:05.429Z"
   },
   {
    "duration": 12,
    "start_time": "2022-07-27T13:02:41.154Z"
   },
   {
    "duration": 10,
    "start_time": "2022-07-27T13:03:01.502Z"
   },
   {
    "duration": 10,
    "start_time": "2022-07-27T13:03:44.072Z"
   },
   {
    "duration": 1563,
    "start_time": "2022-07-27T13:03:56.413Z"
   },
   {
    "duration": 1624,
    "start_time": "2022-07-27T13:04:08.331Z"
   },
   {
    "duration": 1420,
    "start_time": "2022-07-27T13:04:21.121Z"
   },
   {
    "duration": 1522,
    "start_time": "2022-07-27T13:04:34.016Z"
   },
   {
    "duration": 850,
    "start_time": "2022-07-27T13:29:42.260Z"
   },
   {
    "duration": 954,
    "start_time": "2022-07-27T13:29:57.581Z"
   },
   {
    "duration": 5437,
    "start_time": "2022-07-27T13:30:03.286Z"
   },
   {
    "duration": 4,
    "start_time": "2022-07-27T13:30:39.953Z"
   },
   {
    "duration": 1933,
    "start_time": "2022-07-27T13:34:26.503Z"
   },
   {
    "duration": 2460,
    "start_time": "2022-07-27T13:34:51.409Z"
   },
   {
    "duration": 6,
    "start_time": "2022-07-27T13:36:41.578Z"
   },
   {
    "duration": 1962,
    "start_time": "2022-07-27T13:37:12.776Z"
   },
   {
    "duration": 1073,
    "start_time": "2022-07-27T13:38:09.052Z"
   },
   {
    "duration": 1190,
    "start_time": "2022-07-27T13:38:30.321Z"
   },
   {
    "duration": 1023,
    "start_time": "2022-07-27T13:40:16.504Z"
   },
   {
    "duration": 1117,
    "start_time": "2022-07-27T13:40:21.988Z"
   },
   {
    "duration": 1124,
    "start_time": "2022-07-27T13:40:55.706Z"
   },
   {
    "duration": 976,
    "start_time": "2022-07-27T13:41:46.916Z"
   },
   {
    "duration": 1000,
    "start_time": "2022-07-27T13:43:41.240Z"
   },
   {
    "duration": 1001,
    "start_time": "2022-07-27T13:44:31.369Z"
   },
   {
    "duration": 7,
    "start_time": "2022-07-27T13:44:54.396Z"
   },
   {
    "duration": 1124,
    "start_time": "2022-07-27T13:44:56.395Z"
   },
   {
    "duration": 8,
    "start_time": "2022-07-27T13:45:13.710Z"
   },
   {
    "duration": 970,
    "start_time": "2022-07-27T13:45:28.501Z"
   },
   {
    "duration": 12,
    "start_time": "2022-07-27T13:45:51.781Z"
   },
   {
    "duration": 16,
    "start_time": "2022-07-27T13:46:55.844Z"
   },
   {
    "duration": 6,
    "start_time": "2022-07-27T13:47:04.341Z"
   },
   {
    "duration": 13,
    "start_time": "2022-07-27T13:47:11.964Z"
   },
   {
    "duration": 1030,
    "start_time": "2022-07-27T13:47:16.056Z"
   },
   {
    "duration": 988,
    "start_time": "2022-07-27T13:47:42.556Z"
   },
   {
    "duration": 965,
    "start_time": "2022-07-27T13:47:51.626Z"
   },
   {
    "duration": 1092,
    "start_time": "2022-07-27T13:48:48.218Z"
   },
   {
    "duration": 1023,
    "start_time": "2022-07-27T13:50:00.573Z"
   },
   {
    "duration": 29,
    "start_time": "2022-07-27T13:54:19.841Z"
   },
   {
    "duration": 19,
    "start_time": "2022-07-27T13:55:43.436Z"
   },
   {
    "duration": 1157,
    "start_time": "2022-07-27T13:56:35.103Z"
   },
   {
    "duration": 44,
    "start_time": "2022-07-27T13:57:17.784Z"
   },
   {
    "duration": 1226,
    "start_time": "2022-07-27T13:58:49.647Z"
   },
   {
    "duration": 1125,
    "start_time": "2022-07-27T13:59:21.294Z"
   },
   {
    "duration": 928,
    "start_time": "2022-07-27T14:00:12.084Z"
   },
   {
    "duration": 23,
    "start_time": "2022-07-27T14:00:32.122Z"
   },
   {
    "duration": 36,
    "start_time": "2022-07-27T14:00:54.577Z"
   },
   {
    "duration": 24,
    "start_time": "2022-07-27T14:01:13.509Z"
   },
   {
    "duration": 14,
    "start_time": "2022-07-27T14:01:48.205Z"
   },
   {
    "duration": 21,
    "start_time": "2022-07-27T14:01:52.901Z"
   },
   {
    "duration": 22,
    "start_time": "2022-07-27T14:01:57.970Z"
   },
   {
    "duration": 6,
    "start_time": "2022-07-27T14:04:52.133Z"
   },
   {
    "duration": 21,
    "start_time": "2022-07-27T14:05:05.141Z"
   },
   {
    "duration": 1464,
    "start_time": "2022-07-27T14:05:52.101Z"
   },
   {
    "duration": 2420,
    "start_time": "2022-07-27T14:05:53.567Z"
   },
   {
    "duration": 2330,
    "start_time": "2022-07-27T14:05:55.989Z"
   },
   {
    "duration": 36,
    "start_time": "2022-07-27T14:05:58.321Z"
   },
   {
    "duration": 19,
    "start_time": "2022-07-27T14:05:58.359Z"
   },
   {
    "duration": 12,
    "start_time": "2022-07-27T14:05:58.379Z"
   },
   {
    "duration": 14,
    "start_time": "2022-07-27T14:05:58.393Z"
   },
   {
    "duration": 12,
    "start_time": "2022-07-27T14:05:58.409Z"
   },
   {
    "duration": 8,
    "start_time": "2022-07-27T14:05:58.423Z"
   },
   {
    "duration": 7,
    "start_time": "2022-07-27T14:05:58.433Z"
   },
   {
    "duration": 15,
    "start_time": "2022-07-27T14:05:58.441Z"
   },
   {
    "duration": 52,
    "start_time": "2022-07-27T14:05:58.458Z"
   },
   {
    "duration": 15,
    "start_time": "2022-07-27T14:05:58.512Z"
   },
   {
    "duration": 4,
    "start_time": "2022-07-27T14:05:58.530Z"
   },
   {
    "duration": 1037,
    "start_time": "2022-07-27T14:05:58.535Z"
   },
   {
    "duration": 0,
    "start_time": "2022-07-27T14:05:59.573Z"
   },
   {
    "duration": 0,
    "start_time": "2022-07-27T14:05:59.574Z"
   },
   {
    "duration": 0,
    "start_time": "2022-07-27T14:05:59.575Z"
   },
   {
    "duration": 0,
    "start_time": "2022-07-27T14:05:59.576Z"
   },
   {
    "duration": 0,
    "start_time": "2022-07-27T14:05:59.577Z"
   },
   {
    "duration": 0,
    "start_time": "2022-07-27T14:05:59.579Z"
   },
   {
    "duration": 0,
    "start_time": "2022-07-27T14:05:59.579Z"
   },
   {
    "duration": 0,
    "start_time": "2022-07-27T14:05:59.580Z"
   },
   {
    "duration": 0,
    "start_time": "2022-07-27T14:05:59.582Z"
   },
   {
    "duration": 0,
    "start_time": "2022-07-27T14:05:59.583Z"
   },
   {
    "duration": 0,
    "start_time": "2022-07-27T14:05:59.598Z"
   },
   {
    "duration": 1,
    "start_time": "2022-07-27T14:05:59.598Z"
   },
   {
    "duration": 0,
    "start_time": "2022-07-27T14:05:59.599Z"
   },
   {
    "duration": 0,
    "start_time": "2022-07-27T14:05:59.600Z"
   },
   {
    "duration": 0,
    "start_time": "2022-07-27T14:05:59.601Z"
   },
   {
    "duration": 0,
    "start_time": "2022-07-27T14:05:59.601Z"
   },
   {
    "duration": 962,
    "start_time": "2022-07-27T14:11:27.226Z"
   },
   {
    "duration": 1398,
    "start_time": "2022-07-27T14:11:40.443Z"
   },
   {
    "duration": 1374,
    "start_time": "2022-07-27T14:11:45.220Z"
   },
   {
    "duration": 4,
    "start_time": "2022-07-27T14:11:52.075Z"
   },
   {
    "duration": 24,
    "start_time": "2022-07-27T14:11:54.359Z"
   },
   {
    "duration": 740,
    "start_time": "2022-07-27T14:11:57.290Z"
   },
   {
    "duration": 18,
    "start_time": "2022-07-27T14:12:01.860Z"
   },
   {
    "duration": 659,
    "start_time": "2022-07-27T14:12:04.289Z"
   },
   {
    "duration": 105850,
    "start_time": "2022-07-27T14:12:06.890Z"
   },
   {
    "duration": 780,
    "start_time": "2022-07-27T14:13:52.742Z"
   },
   {
    "duration": 99,
    "start_time": "2022-07-27T14:13:53.524Z"
   },
   {
    "duration": 8,
    "start_time": "2022-07-27T14:13:53.626Z"
   },
   {
    "duration": 1069,
    "start_time": "2022-07-27T14:24:32.043Z"
   },
   {
    "duration": 21,
    "start_time": "2022-07-27T14:24:34.033Z"
   },
   {
    "duration": 18,
    "start_time": "2022-07-27T14:24:39.314Z"
   },
   {
    "duration": 4601,
    "start_time": "2022-07-27T14:24:43.791Z"
   },
   {
    "duration": 4700,
    "start_time": "2022-07-27T14:24:51.926Z"
   },
   {
    "duration": 1017,
    "start_time": "2022-07-27T14:24:58.822Z"
   },
   {
    "duration": 1827,
    "start_time": "2022-07-27T15:02:45.292Z"
   },
   {
    "duration": 3525,
    "start_time": "2022-07-27T15:02:47.121Z"
   },
   {
    "duration": 2692,
    "start_time": "2022-07-27T15:02:50.649Z"
   },
   {
    "duration": 74,
    "start_time": "2022-07-27T15:02:53.344Z"
   },
   {
    "duration": 20,
    "start_time": "2022-07-27T15:02:53.419Z"
   },
   {
    "duration": 13,
    "start_time": "2022-07-27T15:02:53.441Z"
   },
   {
    "duration": 10,
    "start_time": "2022-07-27T15:02:53.455Z"
   },
   {
    "duration": 7,
    "start_time": "2022-07-27T15:02:53.467Z"
   },
   {
    "duration": 9,
    "start_time": "2022-07-27T15:02:53.476Z"
   },
   {
    "duration": 35,
    "start_time": "2022-07-27T15:02:53.489Z"
   },
   {
    "duration": 13,
    "start_time": "2022-07-27T15:02:53.526Z"
   },
   {
    "duration": 28,
    "start_time": "2022-07-27T15:02:53.541Z"
   },
   {
    "duration": 16,
    "start_time": "2022-07-27T15:02:53.570Z"
   },
   {
    "duration": 4,
    "start_time": "2022-07-27T15:02:53.588Z"
   },
   {
    "duration": 121,
    "start_time": "2022-07-27T15:02:53.623Z"
   },
   {
    "duration": 0,
    "start_time": "2022-07-27T15:02:53.746Z"
   },
   {
    "duration": 0,
    "start_time": "2022-07-27T15:02:53.747Z"
   },
   {
    "duration": 0,
    "start_time": "2022-07-27T15:02:53.748Z"
   },
   {
    "duration": 0,
    "start_time": "2022-07-27T15:02:53.749Z"
   },
   {
    "duration": 0,
    "start_time": "2022-07-27T15:02:53.750Z"
   },
   {
    "duration": 0,
    "start_time": "2022-07-27T15:02:53.751Z"
   },
   {
    "duration": 0,
    "start_time": "2022-07-27T15:02:53.752Z"
   },
   {
    "duration": 0,
    "start_time": "2022-07-27T15:02:53.753Z"
   },
   {
    "duration": 0,
    "start_time": "2022-07-27T15:02:53.754Z"
   },
   {
    "duration": 0,
    "start_time": "2022-07-27T15:02:53.755Z"
   },
   {
    "duration": 0,
    "start_time": "2022-07-27T15:02:53.756Z"
   },
   {
    "duration": 0,
    "start_time": "2022-07-27T15:02:53.757Z"
   },
   {
    "duration": 0,
    "start_time": "2022-07-27T15:02:53.758Z"
   },
   {
    "duration": 0,
    "start_time": "2022-07-27T15:02:53.759Z"
   },
   {
    "duration": 0,
    "start_time": "2022-07-27T15:02:53.760Z"
   },
   {
    "duration": 0,
    "start_time": "2022-07-27T15:02:53.762Z"
   },
   {
    "duration": 0,
    "start_time": "2022-07-27T15:02:53.763Z"
   },
   {
    "duration": 0,
    "start_time": "2022-07-27T15:02:53.764Z"
   },
   {
    "duration": 1716,
    "start_time": "2022-07-27T15:03:14.482Z"
   },
   {
    "duration": 2499,
    "start_time": "2022-07-27T15:03:43.348Z"
   },
   {
    "duration": 1096,
    "start_time": "2022-07-27T15:04:45.834Z"
   },
   {
    "duration": 4,
    "start_time": "2022-07-27T15:04:56.523Z"
   },
   {
    "duration": 1485,
    "start_time": "2022-07-27T15:05:06.426Z"
   },
   {
    "duration": 5,
    "start_time": "2022-07-27T15:05:10.911Z"
   },
   {
    "duration": 1272,
    "start_time": "2022-07-27T15:06:09.339Z"
   },
   {
    "duration": 1110,
    "start_time": "2022-07-27T15:06:29.162Z"
   },
   {
    "duration": 1125,
    "start_time": "2022-07-27T15:06:34.417Z"
   },
   {
    "duration": 1255,
    "start_time": "2022-07-27T15:06:45.042Z"
   },
   {
    "duration": 1141,
    "start_time": "2022-07-27T15:06:58.393Z"
   },
   {
    "duration": 4,
    "start_time": "2022-07-27T15:07:27.309Z"
   },
   {
    "duration": 5,
    "start_time": "2022-07-27T15:07:38.434Z"
   },
   {
    "duration": 809,
    "start_time": "2022-07-27T15:08:53.554Z"
   },
   {
    "duration": 734,
    "start_time": "2022-07-27T15:08:59.050Z"
   },
   {
    "duration": 838,
    "start_time": "2022-07-27T15:09:08.338Z"
   },
   {
    "duration": 1685,
    "start_time": "2022-07-27T15:09:37.114Z"
   },
   {
    "duration": 976,
    "start_time": "2022-07-27T15:09:44.314Z"
   },
   {
    "duration": 4,
    "start_time": "2022-07-27T15:10:17.362Z"
   },
   {
    "duration": 4,
    "start_time": "2022-07-27T15:10:30.289Z"
   },
   {
    "duration": 849,
    "start_time": "2022-07-27T15:11:28.793Z"
   },
   {
    "duration": 1031,
    "start_time": "2022-07-27T15:11:37.882Z"
   },
   {
    "duration": 14,
    "start_time": "2022-07-27T15:11:55.633Z"
   },
   {
    "duration": 125,
    "start_time": "2022-07-27T15:12:05.641Z"
   },
   {
    "duration": 609,
    "start_time": "2022-07-27T15:13:01.720Z"
   },
   {
    "duration": 647,
    "start_time": "2022-07-27T15:13:09.522Z"
   },
   {
    "duration": 833,
    "start_time": "2022-07-27T15:13:37.209Z"
   },
   {
    "duration": 1430,
    "start_time": "2022-07-27T15:13:51.377Z"
   },
   {
    "duration": 954,
    "start_time": "2022-07-27T15:14:11.712Z"
   },
   {
    "duration": 654,
    "start_time": "2022-07-27T15:17:25.944Z"
   },
   {
    "duration": 648,
    "start_time": "2022-07-27T15:17:32.399Z"
   },
   {
    "duration": 668,
    "start_time": "2022-07-27T15:17:46.904Z"
   },
   {
    "duration": 924,
    "start_time": "2022-07-27T15:18:05.072Z"
   },
   {
    "duration": 637,
    "start_time": "2022-07-27T15:18:22.264Z"
   },
   {
    "duration": 672,
    "start_time": "2022-07-27T15:18:43.921Z"
   },
   {
    "duration": 7,
    "start_time": "2022-07-27T15:19:06.960Z"
   },
   {
    "duration": 25,
    "start_time": "2022-07-27T15:19:22.935Z"
   },
   {
    "duration": 925,
    "start_time": "2022-07-27T15:19:46.279Z"
   },
   {
    "duration": 1742,
    "start_time": "2022-07-27T15:19:51.823Z"
   },
   {
    "duration": 1057,
    "start_time": "2022-07-27T15:20:18.407Z"
   },
   {
    "duration": 963,
    "start_time": "2022-07-27T15:20:39.128Z"
   },
   {
    "duration": 886,
    "start_time": "2022-07-27T15:20:43.703Z"
   },
   {
    "duration": 1496,
    "start_time": "2022-07-27T15:21:04.087Z"
   },
   {
    "duration": 936,
    "start_time": "2022-07-27T15:21:44.384Z"
   },
   {
    "duration": 1803,
    "start_time": "2022-07-27T15:25:06.823Z"
   },
   {
    "duration": 1371,
    "start_time": "2022-07-27T15:25:19.022Z"
   },
   {
    "duration": 807,
    "start_time": "2022-07-27T15:25:53.734Z"
   },
   {
    "duration": 1000,
    "start_time": "2022-07-27T15:26:12.014Z"
   },
   {
    "duration": 1426,
    "start_time": "2022-07-27T15:26:24.409Z"
   },
   {
    "duration": 866,
    "start_time": "2022-07-27T15:27:48.310Z"
   },
   {
    "duration": 8,
    "start_time": "2022-07-27T15:28:34.260Z"
   },
   {
    "duration": 24,
    "start_time": "2022-07-27T15:28:43.197Z"
   },
   {
    "duration": 841,
    "start_time": "2022-07-27T15:30:14.517Z"
   },
   {
    "duration": 5,
    "start_time": "2022-07-27T15:30:25.109Z"
   },
   {
    "duration": 1698,
    "start_time": "2022-07-27T15:30:33.446Z"
   },
   {
    "duration": 820,
    "start_time": "2022-07-27T15:32:15.637Z"
   },
   {
    "duration": 892,
    "start_time": "2022-07-27T15:32:24.044Z"
   },
   {
    "duration": 1115,
    "start_time": "2022-07-27T15:32:40.269Z"
   },
   {
    "duration": 874,
    "start_time": "2022-07-27T15:32:49.429Z"
   },
   {
    "duration": 821,
    "start_time": "2022-07-27T15:33:22.932Z"
   },
   {
    "duration": 1079,
    "start_time": "2022-07-27T15:33:28.332Z"
   },
   {
    "duration": 843,
    "start_time": "2022-07-27T15:34:00.980Z"
   },
   {
    "duration": 5,
    "start_time": "2022-07-27T15:34:12.340Z"
   },
   {
    "duration": 1076,
    "start_time": "2022-07-27T15:35:04.029Z"
   },
   {
    "duration": 1703,
    "start_time": "2022-07-27T15:35:31.749Z"
   },
   {
    "duration": 2221,
    "start_time": "2022-07-27T15:35:33.454Z"
   },
   {
    "duration": 2356,
    "start_time": "2022-07-27T15:35:35.678Z"
   },
   {
    "duration": 38,
    "start_time": "2022-07-27T15:35:38.037Z"
   },
   {
    "duration": 21,
    "start_time": "2022-07-27T15:35:38.077Z"
   },
   {
    "duration": 13,
    "start_time": "2022-07-27T15:35:38.100Z"
   },
   {
    "duration": 6,
    "start_time": "2022-07-27T15:35:38.115Z"
   },
   {
    "duration": 10,
    "start_time": "2022-07-27T15:35:38.124Z"
   },
   {
    "duration": 9,
    "start_time": "2022-07-27T15:35:38.136Z"
   },
   {
    "duration": 8,
    "start_time": "2022-07-27T15:35:38.148Z"
   },
   {
    "duration": 19,
    "start_time": "2022-07-27T15:35:38.158Z"
   },
   {
    "duration": 67,
    "start_time": "2022-07-27T15:35:38.179Z"
   },
   {
    "duration": 20,
    "start_time": "2022-07-27T15:35:38.248Z"
   },
   {
    "duration": 5,
    "start_time": "2022-07-27T15:35:38.270Z"
   },
   {
    "duration": 1268,
    "start_time": "2022-07-27T15:35:38.277Z"
   },
   {
    "duration": 0,
    "start_time": "2022-07-27T15:35:39.548Z"
   },
   {
    "duration": 0,
    "start_time": "2022-07-27T15:35:39.549Z"
   },
   {
    "duration": 0,
    "start_time": "2022-07-27T15:35:39.550Z"
   },
   {
    "duration": 0,
    "start_time": "2022-07-27T15:35:39.551Z"
   },
   {
    "duration": 0,
    "start_time": "2022-07-27T15:35:39.552Z"
   },
   {
    "duration": 1,
    "start_time": "2022-07-27T15:35:39.553Z"
   },
   {
    "duration": 0,
    "start_time": "2022-07-27T15:35:39.556Z"
   },
   {
    "duration": 0,
    "start_time": "2022-07-27T15:35:39.557Z"
   },
   {
    "duration": 0,
    "start_time": "2022-07-27T15:35:39.558Z"
   },
   {
    "duration": 0,
    "start_time": "2022-07-27T15:35:39.560Z"
   },
   {
    "duration": 0,
    "start_time": "2022-07-27T15:35:39.561Z"
   },
   {
    "duration": 0,
    "start_time": "2022-07-27T15:35:39.562Z"
   },
   {
    "duration": 0,
    "start_time": "2022-07-27T15:35:39.563Z"
   },
   {
    "duration": 0,
    "start_time": "2022-07-27T15:35:39.564Z"
   },
   {
    "duration": 0,
    "start_time": "2022-07-27T15:35:39.566Z"
   },
   {
    "duration": 0,
    "start_time": "2022-07-27T15:35:39.567Z"
   },
   {
    "duration": 0,
    "start_time": "2022-07-27T15:35:39.569Z"
   },
   {
    "duration": 0,
    "start_time": "2022-07-27T15:35:39.570Z"
   },
   {
    "duration": 1197,
    "start_time": "2022-07-27T15:35:53.524Z"
   },
   {
    "duration": 1172,
    "start_time": "2022-07-27T15:36:18.588Z"
   },
   {
    "duration": 1666,
    "start_time": "2022-07-27T15:38:45.339Z"
   },
   {
    "duration": 3,
    "start_time": "2022-07-27T15:38:57.425Z"
   },
   {
    "duration": 1783,
    "start_time": "2022-07-27T15:39:02.231Z"
   },
   {
    "duration": 2347,
    "start_time": "2022-07-27T15:39:04.017Z"
   },
   {
    "duration": 2181,
    "start_time": "2022-07-27T15:39:06.366Z"
   },
   {
    "duration": 38,
    "start_time": "2022-07-27T15:39:08.549Z"
   },
   {
    "duration": 21,
    "start_time": "2022-07-27T15:39:08.590Z"
   },
   {
    "duration": 32,
    "start_time": "2022-07-27T15:39:08.613Z"
   },
   {
    "duration": 16,
    "start_time": "2022-07-27T15:39:08.647Z"
   },
   {
    "duration": 31,
    "start_time": "2022-07-27T15:39:08.665Z"
   },
   {
    "duration": 24,
    "start_time": "2022-07-27T15:39:08.698Z"
   },
   {
    "duration": 17,
    "start_time": "2022-07-27T15:39:08.723Z"
   },
   {
    "duration": 30,
    "start_time": "2022-07-27T15:39:08.742Z"
   },
   {
    "duration": 60,
    "start_time": "2022-07-27T15:39:08.774Z"
   },
   {
    "duration": 22,
    "start_time": "2022-07-27T15:39:08.836Z"
   },
   {
    "duration": 24,
    "start_time": "2022-07-27T15:39:08.862Z"
   },
   {
    "duration": 54,
    "start_time": "2022-07-27T15:39:08.889Z"
   },
   {
    "duration": 1769,
    "start_time": "2022-07-27T15:39:08.945Z"
   },
   {
    "duration": 1755,
    "start_time": "2022-07-27T15:39:10.716Z"
   },
   {
    "duration": 4,
    "start_time": "2022-07-27T15:39:12.473Z"
   },
   {
    "duration": 33,
    "start_time": "2022-07-27T15:39:12.479Z"
   },
   {
    "duration": 687,
    "start_time": "2022-07-27T15:39:12.513Z"
   },
   {
    "duration": 22,
    "start_time": "2022-07-27T15:39:13.202Z"
   },
   {
    "duration": 600,
    "start_time": "2022-07-27T15:39:13.226Z"
   },
   {
    "duration": 120713,
    "start_time": "2022-07-27T15:39:13.828Z"
   },
   {
    "duration": 1186,
    "start_time": "2022-07-27T15:41:14.543Z"
   },
   {
    "duration": 101,
    "start_time": "2022-07-27T15:41:15.731Z"
   },
   {
    "duration": 6,
    "start_time": "2022-07-27T15:41:15.834Z"
   },
   {
    "duration": 18,
    "start_time": "2022-07-27T15:41:15.842Z"
   },
   {
    "duration": 5166,
    "start_time": "2022-07-27T15:41:15.862Z"
   },
   {
    "duration": 4744,
    "start_time": "2022-07-27T15:41:21.030Z"
   },
   {
    "duration": 974,
    "start_time": "2022-07-27T15:41:25.776Z"
   },
   {
    "duration": 12,
    "start_time": "2022-07-27T15:41:26.752Z"
   },
   {
    "duration": 4,
    "start_time": "2022-07-27T15:44:41.837Z"
   },
   {
    "duration": 127,
    "start_time": "2022-07-27T15:45:03.138Z"
   },
   {
    "duration": 24,
    "start_time": "2022-07-27T15:45:15.090Z"
   },
   {
    "duration": 22,
    "start_time": "2022-07-27T15:45:49.057Z"
   },
   {
    "duration": 1300,
    "start_time": "2022-07-27T15:46:02.933Z"
   },
   {
    "duration": 1706,
    "start_time": "2022-07-27T15:51:12.977Z"
   },
   {
    "duration": 2269,
    "start_time": "2022-07-27T15:51:14.685Z"
   },
   {
    "duration": 2273,
    "start_time": "2022-07-27T15:51:16.956Z"
   },
   {
    "duration": 37,
    "start_time": "2022-07-27T15:51:19.232Z"
   },
   {
    "duration": 20,
    "start_time": "2022-07-27T15:51:19.271Z"
   },
   {
    "duration": 13,
    "start_time": "2022-07-27T15:51:19.293Z"
   },
   {
    "duration": 6,
    "start_time": "2022-07-27T15:51:19.308Z"
   },
   {
    "duration": 8,
    "start_time": "2022-07-27T15:51:19.316Z"
   },
   {
    "duration": 10,
    "start_time": "2022-07-27T15:51:19.325Z"
   },
   {
    "duration": 8,
    "start_time": "2022-07-27T15:51:19.337Z"
   },
   {
    "duration": 13,
    "start_time": "2022-07-27T15:51:19.347Z"
   },
   {
    "duration": 28,
    "start_time": "2022-07-27T15:51:19.362Z"
   },
   {
    "duration": 48,
    "start_time": "2022-07-27T15:51:19.392Z"
   },
   {
    "duration": 4,
    "start_time": "2022-07-27T15:51:19.441Z"
   },
   {
    "duration": 8,
    "start_time": "2022-07-27T15:51:19.447Z"
   },
   {
    "duration": 1744,
    "start_time": "2022-07-27T15:51:19.457Z"
   },
   {
    "duration": 1665,
    "start_time": "2022-07-27T15:51:21.203Z"
   },
   {
    "duration": 4,
    "start_time": "2022-07-27T15:51:22.870Z"
   },
   {
    "duration": 26,
    "start_time": "2022-07-27T15:51:22.875Z"
   },
   {
    "duration": 895,
    "start_time": "2022-07-27T15:51:22.903Z"
   },
   {
    "duration": 26,
    "start_time": "2022-07-27T15:51:23.800Z"
   },
   {
    "duration": 606,
    "start_time": "2022-07-27T15:51:23.827Z"
   },
   {
    "duration": 122624,
    "start_time": "2022-07-27T15:51:24.435Z"
   },
   {
    "duration": 1468,
    "start_time": "2022-07-27T15:53:27.061Z"
   },
   {
    "duration": 100,
    "start_time": "2022-07-27T15:53:28.530Z"
   },
   {
    "duration": 6,
    "start_time": "2022-07-27T15:53:28.633Z"
   },
   {
    "duration": 23,
    "start_time": "2022-07-27T15:53:28.641Z"
   },
   {
    "duration": 5107,
    "start_time": "2022-07-27T15:53:28.667Z"
   },
   {
    "duration": 4938,
    "start_time": "2022-07-27T15:53:33.776Z"
   },
   {
    "duration": 1081,
    "start_time": "2022-07-27T15:53:38.716Z"
   },
   {
    "duration": 26,
    "start_time": "2022-07-27T15:53:39.799Z"
   },
   {
    "duration": 130,
    "start_time": "2022-07-27T15:54:39.840Z"
   },
   {
    "duration": 14,
    "start_time": "2022-07-27T15:54:50.576Z"
   },
   {
    "duration": 22,
    "start_time": "2022-07-27T15:55:07.944Z"
   },
   {
    "duration": 1257,
    "start_time": "2022-07-27T15:55:25.737Z"
   },
   {
    "duration": 1117,
    "start_time": "2022-07-27T15:55:45.385Z"
   },
   {
    "duration": 50,
    "start_time": "2022-07-28T07:00:18.532Z"
   },
   {
    "duration": 1682,
    "start_time": "2022-07-28T07:00:28.659Z"
   },
   {
    "duration": 3680,
    "start_time": "2022-07-28T07:00:30.343Z"
   },
   {
    "duration": 3014,
    "start_time": "2022-07-28T07:00:34.025Z"
   },
   {
    "duration": 73,
    "start_time": "2022-07-28T07:00:37.042Z"
   },
   {
    "duration": 23,
    "start_time": "2022-07-28T07:00:37.117Z"
   },
   {
    "duration": 48,
    "start_time": "2022-07-28T07:00:37.142Z"
   },
   {
    "duration": 27,
    "start_time": "2022-07-28T07:00:37.192Z"
   },
   {
    "duration": 17,
    "start_time": "2022-07-28T07:00:37.221Z"
   },
   {
    "duration": 21,
    "start_time": "2022-07-28T07:00:37.241Z"
   },
   {
    "duration": 14,
    "start_time": "2022-07-28T07:00:37.266Z"
   },
   {
    "duration": 33,
    "start_time": "2022-07-28T07:00:37.282Z"
   },
   {
    "duration": 52,
    "start_time": "2022-07-28T07:00:37.317Z"
   },
   {
    "duration": 32,
    "start_time": "2022-07-28T07:00:37.371Z"
   },
   {
    "duration": 5,
    "start_time": "2022-07-28T07:00:37.405Z"
   },
   {
    "duration": 41,
    "start_time": "2022-07-28T07:00:37.413Z"
   },
   {
    "duration": 1485,
    "start_time": "2022-07-28T07:00:37.456Z"
   },
   {
    "duration": 1406,
    "start_time": "2022-07-28T07:00:38.942Z"
   },
   {
    "duration": 1473,
    "start_time": "2022-07-28T07:00:40.351Z"
   },
   {
    "duration": 3,
    "start_time": "2022-07-28T07:00:41.826Z"
   },
   {
    "duration": 26,
    "start_time": "2022-07-28T07:00:41.831Z"
   },
   {
    "duration": 617,
    "start_time": "2022-07-28T07:00:41.859Z"
   },
   {
    "duration": 16,
    "start_time": "2022-07-28T07:00:42.478Z"
   },
   {
    "duration": 656,
    "start_time": "2022-07-28T07:00:42.496Z"
   },
   {
    "duration": 113624,
    "start_time": "2022-07-28T07:00:43.154Z"
   },
   {
    "duration": 1153,
    "start_time": "2022-07-28T07:02:36.780Z"
   },
   {
    "duration": 24,
    "start_time": "2022-07-28T07:02:38.024Z"
   },
   {
    "duration": 6,
    "start_time": "2022-07-28T07:02:38.050Z"
   },
   {
    "duration": 20,
    "start_time": "2022-07-28T07:02:38.059Z"
   },
   {
    "duration": 4725,
    "start_time": "2022-07-28T07:02:38.081Z"
   },
   {
    "duration": 4783,
    "start_time": "2022-07-28T07:02:42.808Z"
   },
   {
    "duration": 1103,
    "start_time": "2022-07-28T07:02:47.592Z"
   },
   {
    "duration": 13,
    "start_time": "2022-07-28T07:02:48.697Z"
   },
   {
    "duration": 4,
    "start_time": "2022-07-28T07:02:48.723Z"
   },
   {
    "duration": 900,
    "start_time": "2022-07-28T07:04:24.748Z"
   },
   {
    "duration": 885,
    "start_time": "2022-07-28T07:05:11.740Z"
   },
   {
    "duration": 851,
    "start_time": "2022-07-28T07:05:27.082Z"
   },
   {
    "duration": 901,
    "start_time": "2022-07-28T07:06:51.421Z"
   },
   {
    "duration": 740,
    "start_time": "2022-07-28T07:07:03.077Z"
   },
   {
    "duration": 793,
    "start_time": "2022-07-28T07:07:10.094Z"
   },
   {
    "duration": 898,
    "start_time": "2022-07-28T07:09:09.563Z"
   },
   {
    "duration": 895,
    "start_time": "2022-07-28T07:09:21.454Z"
   },
   {
    "duration": 1106,
    "start_time": "2022-07-28T07:09:36.268Z"
   },
   {
    "duration": 1281,
    "start_time": "2022-07-28T07:09:56.912Z"
   },
   {
    "duration": 1057,
    "start_time": "2022-07-28T07:10:10.605Z"
   },
   {
    "duration": 1055,
    "start_time": "2022-07-28T07:10:24.621Z"
   },
   {
    "duration": 1127,
    "start_time": "2022-07-28T07:10:53.242Z"
   },
   {
    "duration": 801,
    "start_time": "2022-07-28T07:11:33.622Z"
   },
   {
    "duration": 1149,
    "start_time": "2022-07-28T07:11:47.410Z"
   },
   {
    "duration": 1318,
    "start_time": "2022-07-28T07:12:07.780Z"
   },
   {
    "duration": 1271,
    "start_time": "2022-07-28T07:12:27.356Z"
   },
   {
    "duration": 851,
    "start_time": "2022-07-28T07:12:43.527Z"
   },
   {
    "duration": 1163,
    "start_time": "2022-07-28T07:12:48.377Z"
   },
   {
    "duration": 989,
    "start_time": "2022-07-28T07:13:22.818Z"
   },
   {
    "duration": 300,
    "start_time": "2022-07-28T07:16:45.373Z"
   },
   {
    "duration": 475,
    "start_time": "2022-07-28T07:17:10.281Z"
   },
   {
    "duration": 811,
    "start_time": "2022-07-28T07:17:19.616Z"
   },
   {
    "duration": 825,
    "start_time": "2022-07-28T07:17:39.238Z"
   },
   {
    "duration": 951,
    "start_time": "2022-07-28T07:17:55.958Z"
   },
   {
    "duration": 796,
    "start_time": "2022-07-28T07:18:12.454Z"
   },
   {
    "duration": 1674,
    "start_time": "2022-07-28T07:22:37.516Z"
   },
   {
    "duration": 924,
    "start_time": "2022-07-28T07:22:50.398Z"
   },
   {
    "duration": 1046,
    "start_time": "2022-07-28T07:25:49.194Z"
   },
   {
    "duration": 1877,
    "start_time": "2022-07-28T09:50:20.143Z"
   },
   {
    "duration": 3566,
    "start_time": "2022-07-28T09:50:22.022Z"
   },
   {
    "duration": 2904,
    "start_time": "2022-07-28T09:50:25.590Z"
   },
   {
    "duration": 150,
    "start_time": "2022-07-28T09:50:28.496Z"
   },
   {
    "duration": 24,
    "start_time": "2022-07-28T09:50:28.649Z"
   },
   {
    "duration": 12,
    "start_time": "2022-07-28T09:50:28.674Z"
   },
   {
    "duration": 5,
    "start_time": "2022-07-28T09:50:28.689Z"
   },
   {
    "duration": 8,
    "start_time": "2022-07-28T09:50:28.696Z"
   },
   {
    "duration": 26,
    "start_time": "2022-07-28T09:50:28.706Z"
   },
   {
    "duration": 26,
    "start_time": "2022-07-28T09:50:28.734Z"
   },
   {
    "duration": 16,
    "start_time": "2022-07-28T09:50:28.763Z"
   },
   {
    "duration": 29,
    "start_time": "2022-07-28T09:50:28.781Z"
   },
   {
    "duration": 36,
    "start_time": "2022-07-28T09:50:28.812Z"
   },
   {
    "duration": 32,
    "start_time": "2022-07-28T09:50:28.851Z"
   },
   {
    "duration": 12,
    "start_time": "2022-07-28T09:50:28.885Z"
   },
   {
    "duration": 1481,
    "start_time": "2022-07-28T09:50:28.899Z"
   },
   {
    "duration": 852,
    "start_time": "2022-07-28T09:50:30.382Z"
   },
   {
    "duration": 1419,
    "start_time": "2022-07-28T09:50:31.241Z"
   },
   {
    "duration": 1615,
    "start_time": "2022-07-28T09:50:32.662Z"
   },
   {
    "duration": 4,
    "start_time": "2022-07-28T09:50:34.279Z"
   },
   {
    "duration": 27,
    "start_time": "2022-07-28T09:50:34.285Z"
   },
   {
    "duration": 643,
    "start_time": "2022-07-28T09:50:34.314Z"
   },
   {
    "duration": 23,
    "start_time": "2022-07-28T09:50:34.959Z"
   },
   {
    "duration": 609,
    "start_time": "2022-07-28T09:50:34.984Z"
   },
   {
    "duration": 107201,
    "start_time": "2022-07-28T09:50:35.595Z"
   },
   {
    "duration": 947,
    "start_time": "2022-07-28T09:52:22.797Z"
   },
   {
    "duration": 21,
    "start_time": "2022-07-28T09:52:23.748Z"
   },
   {
    "duration": 15,
    "start_time": "2022-07-28T09:52:23.772Z"
   },
   {
    "duration": 14,
    "start_time": "2022-07-28T09:52:23.789Z"
   },
   {
    "duration": 4788,
    "start_time": "2022-07-28T09:52:23.804Z"
   },
   {
    "duration": 4343,
    "start_time": "2022-07-28T09:52:28.594Z"
   },
   {
    "duration": 947,
    "start_time": "2022-07-28T09:52:32.939Z"
   },
   {
    "duration": 968,
    "start_time": "2022-07-28T09:52:33.887Z"
   },
   {
    "duration": 12,
    "start_time": "2022-07-28T09:52:34.856Z"
   }
  ],
  "kernelspec": {
   "display_name": "Python 3 (ipykernel)",
   "language": "python",
   "name": "python3"
  },
  "language_info": {
   "codemirror_mode": {
    "name": "ipython",
    "version": 3
   },
   "file_extension": ".py",
   "mimetype": "text/x-python",
   "name": "python",
   "nbconvert_exporter": "python",
   "pygments_lexer": "ipython3",
   "version": "3.9.7"
  },
  "toc": {
   "base_numbering": 1,
   "nav_menu": {},
   "number_sections": true,
   "sideBar": true,
   "skip_h1_title": true,
   "title_cell": "Table of Contents",
   "title_sidebar": "Contents",
   "toc_cell": false,
   "toc_position": {},
   "toc_section_display": true,
   "toc_window_display": false
  }
 },
 "nbformat": 4,
 "nbformat_minor": 2
}
